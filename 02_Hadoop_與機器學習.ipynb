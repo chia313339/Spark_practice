{
  "nbformat": 4,
  "nbformat_minor": 0,
  "metadata": {
    "colab": {
      "name": "02 Hadoop 與機器學習.ipynb",
      "provenance": []
    },
    "kernelspec": {
      "name": "python3",
      "display_name": "Python 3"
    }
  },
  "cells": [
    {
      "cell_type": "markdown",
      "metadata": {
        "id": "yAuEJTS5DVrj",
        "colab_type": "text"
      },
      "source": [
        "# Spark 練習環境建立"
      ]
    },
    {
      "cell_type": "markdown",
      "metadata": {
        "id": "pUSaFtd4DeBV",
        "colab_type": "text"
      },
      "source": [
        "## 套件安裝及環境建置"
      ]
    },
    {
      "cell_type": "code",
      "metadata": {
        "id": "6Ei7y1TEDaPJ",
        "colab_type": "code",
        "colab": {
          "base_uri": "https://localhost:8080/",
          "height": 238
        },
        "outputId": "e3e920a7-f782-40f5-d8c9-4a900e654e13"
      },
      "source": [
        "!pip install pyspark\n",
        "from pyspark.sql import SparkSession\n",
        "from pyspark import SparkContext\n",
        "spark = SparkSession.builder.master(\"local\").getOrCreate()\n",
        "sc = SparkContext.getOrCreate()"
      ],
      "execution_count": 1,
      "outputs": [
        {
          "output_type": "stream",
          "text": [
            "Collecting pyspark\n",
            "\u001b[?25l  Downloading https://files.pythonhosted.org/packages/8e/b0/bf9020b56492281b9c9d8aae8f44ff51e1bc91b3ef5a884385cb4e389a40/pyspark-3.0.0.tar.gz (204.7MB)\n",
            "\u001b[K     |████████████████████████████████| 204.7MB 74kB/s \n",
            "\u001b[?25hCollecting py4j==0.10.9\n",
            "\u001b[?25l  Downloading https://files.pythonhosted.org/packages/9e/b6/6a4fb90cd235dc8e265a6a2067f2a2c99f0d91787f06aca4bcf7c23f3f80/py4j-0.10.9-py2.py3-none-any.whl (198kB)\n",
            "\u001b[K     |████████████████████████████████| 204kB 32.3MB/s \n",
            "\u001b[?25hBuilding wheels for collected packages: pyspark\n",
            "  Building wheel for pyspark (setup.py) ... \u001b[?25l\u001b[?25hdone\n",
            "  Created wheel for pyspark: filename=pyspark-3.0.0-py2.py3-none-any.whl size=205044182 sha256=0731fee481415da6f05331fc0d0516ca6d56b0816035addfc1cc85411fbb48e9\n",
            "  Stored in directory: /root/.cache/pip/wheels/57/27/4d/ddacf7143f8d5b76c45c61ee2e43d9f8492fc5a8e78ebd7d37\n",
            "Successfully built pyspark\n",
            "Installing collected packages: py4j, pyspark\n",
            "Successfully installed py4j-0.10.9 pyspark-3.0.0\n"
          ],
          "name": "stdout"
        }
      ]
    },
    {
      "cell_type": "code",
      "metadata": {
        "id": "iQdUQyshDcyS",
        "colab_type": "code",
        "colab": {
          "base_uri": "https://localhost:8080/",
          "height": 193
        },
        "outputId": "8589db81-6a6d-4c0b-b0b8-5ca7f5eda7f1"
      },
      "source": [
        "# 確認 spark 環境\n",
        "sc"
      ],
      "execution_count": 2,
      "outputs": [
        {
          "output_type": "execute_result",
          "data": {
            "text/html": [
              "\n",
              "        <div>\n",
              "            <p><b>SparkContext</b></p>\n",
              "\n",
              "            <p><a href=\"http://6dc41a9772ba:4040\">Spark UI</a></p>\n",
              "\n",
              "            <dl>\n",
              "              <dt>Version</dt>\n",
              "                <dd><code>v3.0.0</code></dd>\n",
              "              <dt>Master</dt>\n",
              "                <dd><code>local</code></dd>\n",
              "              <dt>AppName</dt>\n",
              "                <dd><code>pyspark-shell</code></dd>\n",
              "            </dl>\n",
              "        </div>\n",
              "        "
            ],
            "text/plain": [
              "<SparkContext master=local appName=pyspark-shell>"
            ]
          },
          "metadata": {
            "tags": []
          },
          "execution_count": 2
        }
      ]
    },
    {
      "cell_type": "markdown",
      "metadata": {
        "id": "hvdN5XYQDVzh",
        "colab_type": "text"
      },
      "source": [
        "## 資料讀取"
      ]
    },
    {
      "cell_type": "code",
      "metadata": {
        "id": "9XNBjVToDpge",
        "colab_type": "code",
        "colab": {}
      },
      "source": [
        "# 下載資料集\n",
        "from pyspark import SparkFiles\n",
        "url_train = 'https://raw.githubusercontent.com/chia313339/Spark_practice/master/Titanic/train.csv'\n",
        "url_test = 'https://raw.githubusercontent.com/chia313339/Spark_practice/master/Titanic/test.csv'\n",
        "spark.sparkContext.addFile(url_train)\n",
        "spark.sparkContext.addFile(url_test)\n",
        "# 讀取資料集\n",
        "sdf_train = spark.read.csv(SparkFiles.get(\"train.csv\"), header=True, inferSchema= True)\n",
        "sdf_test = spark.read.csv(SparkFiles.get(\"test.csv\"), header=True, inferSchema= True)"
      ],
      "execution_count": 4,
      "outputs": []
    },
    {
      "cell_type": "code",
      "metadata": {
        "id": "iyk90OTCD8NR",
        "colab_type": "code",
        "colab": {
          "base_uri": "https://localhost:8080/",
          "height": 901
        },
        "outputId": "4b22d3f9-519d-45de-b843-da9475e54a36"
      },
      "source": [
        "sdf_train.show()\n",
        "sdf_test.show()"
      ],
      "execution_count": 5,
      "outputs": [
        {
          "output_type": "stream",
          "text": [
            "+-----------+--------+------+--------------------+------+----+-----+-----+----------------+-------+-----+--------+\n",
            "|PassengerId|Survived|Pclass|                Name|   Sex| Age|SibSp|Parch|          Ticket|   Fare|Cabin|Embarked|\n",
            "+-----------+--------+------+--------------------+------+----+-----+-----+----------------+-------+-----+--------+\n",
            "|          1|       0|     3|Braund, Mr. Owen ...|  male|22.0|    1|    0|       A/5 21171|   7.25| null|       S|\n",
            "|          2|       1|     1|Cumings, Mrs. Joh...|female|38.0|    1|    0|        PC 17599|71.2833|  C85|       C|\n",
            "|          3|       1|     3|Heikkinen, Miss. ...|female|26.0|    0|    0|STON/O2. 3101282|  7.925| null|       S|\n",
            "|          4|       1|     1|Futrelle, Mrs. Ja...|female|35.0|    1|    0|          113803|   53.1| C123|       S|\n",
            "|          5|       0|     3|Allen, Mr. Willia...|  male|35.0|    0|    0|          373450|   8.05| null|       S|\n",
            "|          6|       0|     3|    Moran, Mr. James|  male|null|    0|    0|          330877| 8.4583| null|       Q|\n",
            "|          7|       0|     1|McCarthy, Mr. Tim...|  male|54.0|    0|    0|           17463|51.8625|  E46|       S|\n",
            "|          8|       0|     3|Palsson, Master. ...|  male| 2.0|    3|    1|          349909| 21.075| null|       S|\n",
            "|          9|       1|     3|Johnson, Mrs. Osc...|female|27.0|    0|    2|          347742|11.1333| null|       S|\n",
            "|         10|       1|     2|Nasser, Mrs. Nich...|female|14.0|    1|    0|          237736|30.0708| null|       C|\n",
            "|         11|       1|     3|Sandstrom, Miss. ...|female| 4.0|    1|    1|         PP 9549|   16.7|   G6|       S|\n",
            "|         12|       1|     1|Bonnell, Miss. El...|female|58.0|    0|    0|          113783|  26.55| C103|       S|\n",
            "|         13|       0|     3|Saundercock, Mr. ...|  male|20.0|    0|    0|       A/5. 2151|   8.05| null|       S|\n",
            "|         14|       0|     3|Andersson, Mr. An...|  male|39.0|    1|    5|          347082| 31.275| null|       S|\n",
            "|         15|       0|     3|Vestrom, Miss. Hu...|female|14.0|    0|    0|          350406| 7.8542| null|       S|\n",
            "|         16|       1|     2|Hewlett, Mrs. (Ma...|female|55.0|    0|    0|          248706|   16.0| null|       S|\n",
            "|         17|       0|     3|Rice, Master. Eugene|  male| 2.0|    4|    1|          382652| 29.125| null|       Q|\n",
            "|         18|       1|     2|Williams, Mr. Cha...|  male|null|    0|    0|          244373|   13.0| null|       S|\n",
            "|         19|       0|     3|Vander Planke, Mr...|female|31.0|    1|    0|          345763|   18.0| null|       S|\n",
            "|         20|       1|     3|Masselmani, Mrs. ...|female|null|    0|    0|            2649|  7.225| null|       C|\n",
            "+-----------+--------+------+--------------------+------+----+-----+-----+----------------+-------+-----+--------+\n",
            "only showing top 20 rows\n",
            "\n",
            "+-----------+------+--------------------+------+----+-----+-----+----------------+-------+-----+--------+\n",
            "|PassengerId|Pclass|                Name|   Sex| Age|SibSp|Parch|          Ticket|   Fare|Cabin|Embarked|\n",
            "+-----------+------+--------------------+------+----+-----+-----+----------------+-------+-----+--------+\n",
            "|        892|     3|    Kelly, Mr. James|  male|34.5|    0|    0|          330911| 7.8292| null|       Q|\n",
            "|        893|     3|Wilkes, Mrs. Jame...|female|47.0|    1|    0|          363272|    7.0| null|       S|\n",
            "|        894|     2|Myles, Mr. Thomas...|  male|62.0|    0|    0|          240276| 9.6875| null|       Q|\n",
            "|        895|     3|    Wirz, Mr. Albert|  male|27.0|    0|    0|          315154| 8.6625| null|       S|\n",
            "|        896|     3|Hirvonen, Mrs. Al...|female|22.0|    1|    1|         3101298|12.2875| null|       S|\n",
            "|        897|     3|Svensson, Mr. Joh...|  male|14.0|    0|    0|            7538|  9.225| null|       S|\n",
            "|        898|     3|Connolly, Miss. Kate|female|30.0|    0|    0|          330972| 7.6292| null|       Q|\n",
            "|        899|     2|Caldwell, Mr. Alb...|  male|26.0|    1|    1|          248738|   29.0| null|       S|\n",
            "|        900|     3|Abrahim, Mrs. Jos...|female|18.0|    0|    0|            2657| 7.2292| null|       C|\n",
            "|        901|     3|Davies, Mr. John ...|  male|21.0|    2|    0|       A/4 48871|  24.15| null|       S|\n",
            "|        902|     3|    Ilieff, Mr. Ylio|  male|null|    0|    0|          349220| 7.8958| null|       S|\n",
            "|        903|     1|Jones, Mr. Charle...|  male|46.0|    0|    0|             694|   26.0| null|       S|\n",
            "|        904|     1|Snyder, Mrs. John...|female|23.0|    1|    0|           21228|82.2667|  B45|       S|\n",
            "|        905|     2|Howard, Mr. Benjamin|  male|63.0|    1|    0|           24065|   26.0| null|       S|\n",
            "|        906|     1|Chaffee, Mrs. Her...|female|47.0|    1|    0|     W.E.P. 5734| 61.175|  E31|       S|\n",
            "|        907|     2|del Carlo, Mrs. S...|female|24.0|    1|    0|   SC/PARIS 2167|27.7208| null|       C|\n",
            "|        908|     2|   Keane, Mr. Daniel|  male|35.0|    0|    0|          233734|  12.35| null|       Q|\n",
            "|        909|     3|   Assaf, Mr. Gerios|  male|21.0|    0|    0|            2692|  7.225| null|       C|\n",
            "|        910|     3|Ilmakangas, Miss....|female|27.0|    1|    0|STON/O2. 3101270|  7.925| null|       S|\n",
            "|        911|     3|\"Assaf Khalil, Mr...|female|45.0|    0|    0|            2696|  7.225| null|       C|\n",
            "+-----------+------+--------------------+------+----+-----+-----+----------------+-------+-----+--------+\n",
            "only showing top 20 rows\n",
            "\n"
          ],
          "name": "stdout"
        }
      ]
    },
    {
      "cell_type": "markdown",
      "metadata": {
        "id": "qNQa_1x5D7OW",
        "colab_type": "text"
      },
      "source": [
        "# 資料探索"
      ]
    },
    {
      "cell_type": "code",
      "metadata": {
        "id": "TbaUyudpEDd3",
        "colab_type": "code",
        "colab": {
          "base_uri": "https://localhost:8080/",
          "height": 255
        },
        "outputId": "bebecae2-195e-4778-a51d-07cdd1e3f895"
      },
      "source": [
        "# 觀察資料型態\n",
        "sdf_train.printSchema()"
      ],
      "execution_count": 6,
      "outputs": [
        {
          "output_type": "stream",
          "text": [
            "root\n",
            " |-- PassengerId: integer (nullable = true)\n",
            " |-- Survived: integer (nullable = true)\n",
            " |-- Pclass: integer (nullable = true)\n",
            " |-- Name: string (nullable = true)\n",
            " |-- Sex: string (nullable = true)\n",
            " |-- Age: double (nullable = true)\n",
            " |-- SibSp: integer (nullable = true)\n",
            " |-- Parch: integer (nullable = true)\n",
            " |-- Ticket: string (nullable = true)\n",
            " |-- Fare: double (nullable = true)\n",
            " |-- Cabin: string (nullable = true)\n",
            " |-- Embarked: string (nullable = true)\n",
            "\n"
          ],
          "name": "stdout"
        }
      ]
    },
    {
      "cell_type": "code",
      "metadata": {
        "id": "33RqnRKREDgR",
        "colab_type": "code",
        "colab": {
          "base_uri": "https://localhost:8080/",
          "height": 207
        },
        "outputId": "a0631e56-390c-4bbf-c819-6288a3017f5f"
      },
      "source": [
        "# 順便觀察哪些欄位有缺失值\n",
        "sdf_train.describe().show()"
      ],
      "execution_count": 7,
      "outputs": [
        {
          "output_type": "stream",
          "text": [
            "+-------+-----------------+-------------------+------------------+--------------------+------+------------------+------------------+-------------------+------------------+-----------------+-----+--------+\n",
            "|summary|      PassengerId|           Survived|            Pclass|                Name|   Sex|               Age|             SibSp|              Parch|            Ticket|             Fare|Cabin|Embarked|\n",
            "+-------+-----------------+-------------------+------------------+--------------------+------+------------------+------------------+-------------------+------------------+-----------------+-----+--------+\n",
            "|  count|              891|                891|               891|                 891|   891|               714|               891|                891|               891|              891|  204|     889|\n",
            "|   mean|            446.0| 0.3838383838383838| 2.308641975308642|                null|  null| 29.69911764705882|0.5230078563411896|0.38159371492704824|260318.54916792738| 32.2042079685746| null|    null|\n",
            "| stddev|257.3538420152301|0.48659245426485753|0.8360712409770491|                null|  null|14.526497332334035|1.1027434322934315| 0.8060572211299488|471609.26868834975|49.69342859718089| null|    null|\n",
            "|    min|                1|                  0|                 1|\"Andersson, Mr. A...|female|              0.42|                 0|                  0|            110152|              0.0|  A10|       C|\n",
            "|    max|              891|                  1|                 3|van Melkebeke, Mr...|  male|              80.0|                 8|                  6|         WE/P 5735|         512.3292|    T|       S|\n",
            "+-------+-----------------+-------------------+------------------+--------------------+------+------------------+------------------+-------------------+------------------+-----------------+-----+--------+\n",
            "\n"
          ],
          "name": "stdout"
        }
      ]
    },
    {
      "cell_type": "markdown",
      "metadata": {
        "id": "BljzRUDvELbX",
        "colab_type": "text"
      },
      "source": [
        "# 缺失值處理"
      ]
    },
    {
      "cell_type": "code",
      "metadata": {
        "id": "WH47ANTqEKSD",
        "colab_type": "code",
        "colab": {
          "base_uri": "https://localhost:8080/",
          "height": 221
        },
        "outputId": "07c362ac-54c0-4d82-db5a-cd01ab59e0f9"
      },
      "source": [
        "# 建一個假的 Dataframe，說明數值及字串的缺失處理\n",
        "df_tmp = spark.createDataFrame([(1,'Alice',28,None),\n",
        "                                (2,'QQcat',45,'M'),\n",
        "                                (3,'Kobe',None,None),\n",
        "                                (4,'Joan',33,'F'),\n",
        "                                (5,'Stone',54,'M'),\n",
        "                                (6,'Ruby',None,'F'),\n",
        "                                (7,'Ray',42,'M')],\n",
        "                               ['id', 'Name', 'Age', 'Gender'])\n",
        "df_tmp.show()"
      ],
      "execution_count": 9,
      "outputs": [
        {
          "output_type": "stream",
          "text": [
            "+---+-----+----+------+\n",
            "| id| Name| Age|Gender|\n",
            "+---+-----+----+------+\n",
            "|  1|Alice|  28|  null|\n",
            "|  2|QQcat|  45|     M|\n",
            "|  3| Kobe|null|  null|\n",
            "|  4| Joan|  33|     F|\n",
            "|  5|Stone|  54|     M|\n",
            "|  6| Ruby|null|     F|\n",
            "|  7|  Ray|  42|     M|\n",
            "+---+-----+----+------+\n",
            "\n"
          ],
          "name": "stdout"
        }
      ]
    },
    {
      "cell_type": "markdown",
      "metadata": {
        "id": "jyokUxbfEddD",
        "colab_type": "text"
      },
      "source": [
        "## 找缺失欄位"
      ]
    },
    {
      "cell_type": "code",
      "metadata": {
        "id": "lN1opHuUEDiU",
        "colab_type": "code",
        "colab": {
          "base_uri": "https://localhost:8080/",
          "height": 119
        },
        "outputId": "99af7b4b-9d2f-4fc5-fe17-a1598646ab32"
      },
      "source": [
        "# 找出有缺失的欄位\n",
        "from pyspark.sql.functions import when, count, col\n",
        "df_tmp.select([count(when(col(c).isNull(), c)).alias(c) for c in df_tmp.columns]).show()"
      ],
      "execution_count": 10,
      "outputs": [
        {
          "output_type": "stream",
          "text": [
            "+---+----+---+------+\n",
            "| id|Name|Age|Gender|\n",
            "+---+----+---+------+\n",
            "|  0|   0|  2|     2|\n",
            "+---+----+---+------+\n",
            "\n"
          ],
          "name": "stdout"
        }
      ]
    },
    {
      "cell_type": "markdown",
      "metadata": {
        "id": "D4t8ZBp3DV1s",
        "colab_type": "text"
      },
      "source": [
        "## 情境一 移除有缺失的資料"
      ]
    },
    {
      "cell_type": "code",
      "metadata": {
        "id": "3THoHAJKEzZR",
        "colab_type": "code",
        "colab": {
          "base_uri": "https://localhost:8080/",
          "height": 170
        },
        "outputId": "72ef99e1-cd42-43bc-b3c1-8fc689cb908a"
      },
      "source": [
        "df_tmp.na.drop().show()"
      ],
      "execution_count": 11,
      "outputs": [
        {
          "output_type": "stream",
          "text": [
            "+---+-----+---+------+\n",
            "| id| Name|Age|Gender|\n",
            "+---+-----+---+------+\n",
            "|  2|QQcat| 45|     M|\n",
            "|  4| Joan| 33|     F|\n",
            "|  5|Stone| 54|     M|\n",
            "|  7|  Ray| 42|     M|\n",
            "+---+-----+---+------+\n",
            "\n"
          ],
          "name": "stdout"
        }
      ]
    },
    {
      "cell_type": "markdown",
      "metadata": {
        "id": "K0SdFpL6Ehyr",
        "colab_type": "text"
      },
      "source": [
        "## 情境二 移除指定欄位有缺失的資料"
      ]
    },
    {
      "cell_type": "code",
      "metadata": {
        "id": "hVanwkaXE0uT",
        "colab_type": "code",
        "colab": {
          "base_uri": "https://localhost:8080/",
          "height": 187
        },
        "outputId": "d03dcfc7-3591-4e12-ab25-825713494341"
      },
      "source": [
        "df_tmp.na.drop(subset=['Age']).show()"
      ],
      "execution_count": 12,
      "outputs": [
        {
          "output_type": "stream",
          "text": [
            "+---+-----+---+------+\n",
            "| id| Name|Age|Gender|\n",
            "+---+-----+---+------+\n",
            "|  1|Alice| 28|  null|\n",
            "|  2|QQcat| 45|     M|\n",
            "|  4| Joan| 33|     F|\n",
            "|  5|Stone| 54|     M|\n",
            "|  7|  Ray| 42|     M|\n",
            "+---+-----+---+------+\n",
            "\n"
          ],
          "name": "stdout"
        }
      ]
    },
    {
      "cell_type": "markdown",
      "metadata": {
        "id": "GQR9DMW5Eh1Q",
        "colab_type": "text"
      },
      "source": [
        "## 情境三 移除指定欄位中，有任意缺失的資料"
      ]
    },
    {
      "cell_type": "code",
      "metadata": {
        "id": "JkX9QD7QE2Fn",
        "colab_type": "code",
        "colab": {
          "base_uri": "https://localhost:8080/",
          "height": 204
        },
        "outputId": "12833da8-e870-4fc6-ce26-a6a89a556f50"
      },
      "source": [
        "df_tmp.na.drop(how='all',subset=['Age','Gender']).show()"
      ],
      "execution_count": 13,
      "outputs": [
        {
          "output_type": "stream",
          "text": [
            "+---+-----+----+------+\n",
            "| id| Name| Age|Gender|\n",
            "+---+-----+----+------+\n",
            "|  1|Alice|  28|  null|\n",
            "|  2|QQcat|  45|     M|\n",
            "|  4| Joan|  33|     F|\n",
            "|  5|Stone|  54|     M|\n",
            "|  6| Ruby|null|     F|\n",
            "|  7|  Ray|  42|     M|\n",
            "+---+-----+----+------+\n",
            "\n"
          ],
          "name": "stdout"
        }
      ]
    },
    {
      "cell_type": "markdown",
      "metadata": {
        "id": "kPQAADOnEh3v",
        "colab_type": "text"
      },
      "source": [
        "## 情境四 取代字串缺失值\n",
        "spark 會自動判斷字串欄位"
      ]
    },
    {
      "cell_type": "code",
      "metadata": {
        "id": "-mmns_lxE4MJ",
        "colab_type": "code",
        "colab": {
          "base_uri": "https://localhost:8080/",
          "height": 221
        },
        "outputId": "5467538a-e3df-4fb7-b42a-778e08f97661"
      },
      "source": [
        "df_tmp.na.fill('???').show()"
      ],
      "execution_count": 14,
      "outputs": [
        {
          "output_type": "stream",
          "text": [
            "+---+-----+----+------+\n",
            "| id| Name| Age|Gender|\n",
            "+---+-----+----+------+\n",
            "|  1|Alice|  28|   ???|\n",
            "|  2|QQcat|  45|     M|\n",
            "|  3| Kobe|null|   ???|\n",
            "|  4| Joan|  33|     F|\n",
            "|  5|Stone|  54|     M|\n",
            "|  6| Ruby|null|     F|\n",
            "|  7|  Ray|  42|     M|\n",
            "+---+-----+----+------+\n",
            "\n"
          ],
          "name": "stdout"
        }
      ]
    },
    {
      "cell_type": "markdown",
      "metadata": {
        "id": "yFefZX8gEh59",
        "colab_type": "text"
      },
      "source": [
        "## 情境五 取代數值缺失值\n",
        "spark 會自動判斷數值欄位"
      ]
    },
    {
      "cell_type": "code",
      "metadata": {
        "id": "_MbdqorHE8zF",
        "colab_type": "code",
        "colab": {
          "base_uri": "https://localhost:8080/",
          "height": 221
        },
        "outputId": "a4974a5b-9f1b-4441-8368-40f9d611c108"
      },
      "source": [
        "df_tmp.na.fill(999).show()"
      ],
      "execution_count": 15,
      "outputs": [
        {
          "output_type": "stream",
          "text": [
            "+---+-----+---+------+\n",
            "| id| Name|Age|Gender|\n",
            "+---+-----+---+------+\n",
            "|  1|Alice| 28|  null|\n",
            "|  2|QQcat| 45|     M|\n",
            "|  3| Kobe|999|  null|\n",
            "|  4| Joan| 33|     F|\n",
            "|  5|Stone| 54|     M|\n",
            "|  6| Ruby|999|     F|\n",
            "|  7|  Ray| 42|     M|\n",
            "+---+-----+---+------+\n",
            "\n"
          ],
          "name": "stdout"
        }
      ]
    },
    {
      "cell_type": "markdown",
      "metadata": {
        "id": "4B_A0vRbEh8E",
        "colab_type": "text"
      },
      "source": [
        "## 情境六 各自指定補值"
      ]
    },
    {
      "cell_type": "code",
      "metadata": {
        "id": "uigkeo--E-8E",
        "colab_type": "code",
        "colab": {
          "base_uri": "https://localhost:8080/",
          "height": 221
        },
        "outputId": "3baefc9d-fc8d-44ff-d644-587109401c59"
      },
      "source": [
        "df_tmp.na.fill({'Age':999,'Gender':'???'}).show()"
      ],
      "execution_count": 16,
      "outputs": [
        {
          "output_type": "stream",
          "text": [
            "+---+-----+---+------+\n",
            "| id| Name|Age|Gender|\n",
            "+---+-----+---+------+\n",
            "|  1|Alice| 28|   ???|\n",
            "|  2|QQcat| 45|     M|\n",
            "|  3| Kobe|999|   ???|\n",
            "|  4| Joan| 33|     F|\n",
            "|  5|Stone| 54|     M|\n",
            "|  6| Ruby|999|     F|\n",
            "|  7|  Ray| 42|     M|\n",
            "+---+-----+---+------+\n",
            "\n"
          ],
          "name": "stdout"
        }
      ]
    },
    {
      "cell_type": "markdown",
      "metadata": {
        "id": "5bYd3uBnFC4I",
        "colab_type": "text"
      },
      "source": [
        "## 情境七 統計量補值\n",
        "AGE補平均年齡為例"
      ]
    },
    {
      "cell_type": "code",
      "metadata": {
        "id": "3nlucRFBExXZ",
        "colab_type": "code",
        "colab": {
          "base_uri": "https://localhost:8080/",
          "height": 34
        },
        "outputId": "a13285a5-d53f-423a-aedd-847da42ff1a3"
      },
      "source": [
        "from pyspark.sql.functions import mean\n",
        "mean_age = df_tmp.select(mean(df_tmp.Age)).collect()\n",
        "mean_age"
      ],
      "execution_count": 17,
      "outputs": [
        {
          "output_type": "execute_result",
          "data": {
            "text/plain": [
              "[Row(avg(Age)=40.4)]"
            ]
          },
          "metadata": {
            "tags": []
          },
          "execution_count": 17
        }
      ]
    },
    {
      "cell_type": "code",
      "metadata": {
        "id": "tqYz7tgkFKkp",
        "colab_type": "code",
        "colab": {
          "base_uri": "https://localhost:8080/",
          "height": 221
        },
        "outputId": "fc86d291-c09a-4415-cd40-c58e628c68b3"
      },
      "source": [
        "# 年齡缺失值補上平均年齡\n",
        "df_tmp.na.fill({'Age':mean_age[0][0]}).show()"
      ],
      "execution_count": 18,
      "outputs": [
        {
          "output_type": "stream",
          "text": [
            "+---+-----+---+------+\n",
            "| id| Name|Age|Gender|\n",
            "+---+-----+---+------+\n",
            "|  1|Alice| 28|  null|\n",
            "|  2|QQcat| 45|     M|\n",
            "|  3| Kobe| 40|  null|\n",
            "|  4| Joan| 33|     F|\n",
            "|  5|Stone| 54|     M|\n",
            "|  6| Ruby| 40|     F|\n",
            "|  7|  Ray| 42|     M|\n",
            "+---+-----+---+------+\n",
            "\n"
          ],
          "name": "stdout"
        }
      ]
    },
    {
      "cell_type": "markdown",
      "metadata": {
        "id": "tGi17H_ZFZJs",
        "colab_type": "text"
      },
      "source": [
        "# ABT 缺失處理"
      ]
    },
    {
      "cell_type": "code",
      "metadata": {
        "id": "uarHK6MZFL6q",
        "colab_type": "code",
        "colab": {
          "base_uri": "https://localhost:8080/",
          "height": 119
        },
        "outputId": "bfe01569-4229-4884-e821-9c0a48dec068"
      },
      "source": [
        "# 計算每個欄位缺失值數量\n",
        "from pyspark.sql.functions import isnan, when, count, col\n",
        "sdf_train.select([count(when(col(c).isNull(), c)).alias(c) for c in sdf_train.columns]).show()"
      ],
      "execution_count": 19,
      "outputs": [
        {
          "output_type": "stream",
          "text": [
            "+-----------+--------+------+----+---+---+-----+-----+------+----+-----+--------+\n",
            "|PassengerId|Survived|Pclass|Name|Sex|Age|SibSp|Parch|Ticket|Fare|Cabin|Embarked|\n",
            "+-----------+--------+------+----+---+---+-----+-----+------+----+-----+--------+\n",
            "|          0|       0|     0|   0|  0|177|    0|    0|     0|   0|  687|       2|\n",
            "+-----------+--------+------+----+---+---+-----+-----+------+----+-----+--------+\n",
            "\n"
          ],
          "name": "stdout"
        }
      ]
    },
    {
      "cell_type": "code",
      "metadata": {
        "id": "NGZY6193FdNR",
        "colab_type": "code",
        "colab": {}
      },
      "source": [
        "# 教育訓練時間問題，Age先無腦貼中位數，Cabin有77%都是Null，刪欄位，Embarked只有2筆缺失，刪缺的資料\n",
        "def handle_missing(dataframe, age_med):\n",
        "  tmp = dataframe\n",
        "  tmp = tmp.drop('Cabin').na.drop(subset=['Embarked']).na.fill({'Age':age_med})\n",
        "  return tmp"
      ],
      "execution_count": 21,
      "outputs": []
    },
    {
      "cell_type": "code",
      "metadata": {
        "id": "rxFvvLpdFf_Z",
        "colab_type": "code",
        "colab": {
          "base_uri": "https://localhost:8080/",
          "height": 34
        },
        "outputId": "2f4f7c59-244c-4fc5-a869-ac7989d02ad4"
      },
      "source": [
        "# 算一下Age中位數\n",
        "age_med = sdf_train.approxQuantile('Age',[0.5],0.25)[0]\n",
        "age_med"
      ],
      "execution_count": 22,
      "outputs": [
        {
          "output_type": "execute_result",
          "data": {
            "text/plain": [
              "21.0"
            ]
          },
          "metadata": {
            "tags": []
          },
          "execution_count": 22
        }
      ]
    },
    {
      "cell_type": "code",
      "metadata": {
        "id": "tNmuA08uFkVR",
        "colab_type": "code",
        "colab": {}
      },
      "source": [
        "# 將資料集套用缺失值處理函數\n",
        "sdf_train_hadle_missing = handle_missing(sdf_train,age_med)\n",
        "sdf_test_hadle_missing = handle_missing(sdf_test,age_med)"
      ],
      "execution_count": 23,
      "outputs": []
    },
    {
      "cell_type": "code",
      "metadata": {
        "id": "4ryKhqSVFmXw",
        "colab_type": "code",
        "colab": {
          "base_uri": "https://localhost:8080/",
          "height": 459
        },
        "outputId": "a4bad6c2-7af2-4f03-bf5a-a563280d15ba"
      },
      "source": [
        "sdf_train_hadle_missing.show()"
      ],
      "execution_count": 24,
      "outputs": [
        {
          "output_type": "stream",
          "text": [
            "+-----------+--------+------+--------------------+------+----+-----+-----+----------------+-------+--------+\n",
            "|PassengerId|Survived|Pclass|                Name|   Sex| Age|SibSp|Parch|          Ticket|   Fare|Embarked|\n",
            "+-----------+--------+------+--------------------+------+----+-----+-----+----------------+-------+--------+\n",
            "|          1|       0|     3|Braund, Mr. Owen ...|  male|22.0|    1|    0|       A/5 21171|   7.25|       S|\n",
            "|          2|       1|     1|Cumings, Mrs. Joh...|female|38.0|    1|    0|        PC 17599|71.2833|       C|\n",
            "|          3|       1|     3|Heikkinen, Miss. ...|female|26.0|    0|    0|STON/O2. 3101282|  7.925|       S|\n",
            "|          4|       1|     1|Futrelle, Mrs. Ja...|female|35.0|    1|    0|          113803|   53.1|       S|\n",
            "|          5|       0|     3|Allen, Mr. Willia...|  male|35.0|    0|    0|          373450|   8.05|       S|\n",
            "|          6|       0|     3|    Moran, Mr. James|  male|21.0|    0|    0|          330877| 8.4583|       Q|\n",
            "|          7|       0|     1|McCarthy, Mr. Tim...|  male|54.0|    0|    0|           17463|51.8625|       S|\n",
            "|          8|       0|     3|Palsson, Master. ...|  male| 2.0|    3|    1|          349909| 21.075|       S|\n",
            "|          9|       1|     3|Johnson, Mrs. Osc...|female|27.0|    0|    2|          347742|11.1333|       S|\n",
            "|         10|       1|     2|Nasser, Mrs. Nich...|female|14.0|    1|    0|          237736|30.0708|       C|\n",
            "|         11|       1|     3|Sandstrom, Miss. ...|female| 4.0|    1|    1|         PP 9549|   16.7|       S|\n",
            "|         12|       1|     1|Bonnell, Miss. El...|female|58.0|    0|    0|          113783|  26.55|       S|\n",
            "|         13|       0|     3|Saundercock, Mr. ...|  male|20.0|    0|    0|       A/5. 2151|   8.05|       S|\n",
            "|         14|       0|     3|Andersson, Mr. An...|  male|39.0|    1|    5|          347082| 31.275|       S|\n",
            "|         15|       0|     3|Vestrom, Miss. Hu...|female|14.0|    0|    0|          350406| 7.8542|       S|\n",
            "|         16|       1|     2|Hewlett, Mrs. (Ma...|female|55.0|    0|    0|          248706|   16.0|       S|\n",
            "|         17|       0|     3|Rice, Master. Eugene|  male| 2.0|    4|    1|          382652| 29.125|       Q|\n",
            "|         18|       1|     2|Williams, Mr. Cha...|  male|21.0|    0|    0|          244373|   13.0|       S|\n",
            "|         19|       0|     3|Vander Planke, Mr...|female|31.0|    1|    0|          345763|   18.0|       S|\n",
            "|         20|       1|     3|Masselmani, Mrs. ...|female|21.0|    0|    0|            2649|  7.225|       C|\n",
            "+-----------+--------+------+--------------------+------+----+-----+-----+----------------+-------+--------+\n",
            "only showing top 20 rows\n",
            "\n"
          ],
          "name": "stdout"
        }
      ]
    },
    {
      "cell_type": "markdown",
      "metadata": {
        "id": "1V6RAMzEFrmv",
        "colab_type": "text"
      },
      "source": [
        "# 特徵工程"
      ]
    },
    {
      "cell_type": "markdown",
      "metadata": {
        "id": "Txr_CP9QGB9x",
        "colab_type": "text"
      },
      "source": [
        "## Label Encoding"
      ]
    },
    {
      "cell_type": "code",
      "metadata": {
        "id": "BEfjwGAqFoVh",
        "colab_type": "code",
        "colab": {
          "base_uri": "https://localhost:8080/",
          "height": 459
        },
        "outputId": "3a734afb-96ce-4188-b7b5-dd411cb72006"
      },
      "source": [
        "# 以label-encoding為例，Embarked示範，spark比較貼近的函數是StringIndexer()\n",
        "from pyspark.ml.feature import StringIndexer\n",
        "string_indexer = StringIndexer(inputCol = 'Embarked', outputCol = 'Embarked_StringIndexer')\n",
        "sdf_train_LE = string_indexer.fit(sdf_train_hadle_missing).transform(sdf_train_hadle_missing)\n",
        "sdf_train_LE.show()"
      ],
      "execution_count": 25,
      "outputs": [
        {
          "output_type": "stream",
          "text": [
            "+-----------+--------+------+--------------------+------+----+-----+-----+----------------+-------+--------+----------------------+\n",
            "|PassengerId|Survived|Pclass|                Name|   Sex| Age|SibSp|Parch|          Ticket|   Fare|Embarked|Embarked_StringIndexer|\n",
            "+-----------+--------+------+--------------------+------+----+-----+-----+----------------+-------+--------+----------------------+\n",
            "|          1|       0|     3|Braund, Mr. Owen ...|  male|22.0|    1|    0|       A/5 21171|   7.25|       S|                   0.0|\n",
            "|          2|       1|     1|Cumings, Mrs. Joh...|female|38.0|    1|    0|        PC 17599|71.2833|       C|                   1.0|\n",
            "|          3|       1|     3|Heikkinen, Miss. ...|female|26.0|    0|    0|STON/O2. 3101282|  7.925|       S|                   0.0|\n",
            "|          4|       1|     1|Futrelle, Mrs. Ja...|female|35.0|    1|    0|          113803|   53.1|       S|                   0.0|\n",
            "|          5|       0|     3|Allen, Mr. Willia...|  male|35.0|    0|    0|          373450|   8.05|       S|                   0.0|\n",
            "|          6|       0|     3|    Moran, Mr. James|  male|21.0|    0|    0|          330877| 8.4583|       Q|                   2.0|\n",
            "|          7|       0|     1|McCarthy, Mr. Tim...|  male|54.0|    0|    0|           17463|51.8625|       S|                   0.0|\n",
            "|          8|       0|     3|Palsson, Master. ...|  male| 2.0|    3|    1|          349909| 21.075|       S|                   0.0|\n",
            "|          9|       1|     3|Johnson, Mrs. Osc...|female|27.0|    0|    2|          347742|11.1333|       S|                   0.0|\n",
            "|         10|       1|     2|Nasser, Mrs. Nich...|female|14.0|    1|    0|          237736|30.0708|       C|                   1.0|\n",
            "|         11|       1|     3|Sandstrom, Miss. ...|female| 4.0|    1|    1|         PP 9549|   16.7|       S|                   0.0|\n",
            "|         12|       1|     1|Bonnell, Miss. El...|female|58.0|    0|    0|          113783|  26.55|       S|                   0.0|\n",
            "|         13|       0|     3|Saundercock, Mr. ...|  male|20.0|    0|    0|       A/5. 2151|   8.05|       S|                   0.0|\n",
            "|         14|       0|     3|Andersson, Mr. An...|  male|39.0|    1|    5|          347082| 31.275|       S|                   0.0|\n",
            "|         15|       0|     3|Vestrom, Miss. Hu...|female|14.0|    0|    0|          350406| 7.8542|       S|                   0.0|\n",
            "|         16|       1|     2|Hewlett, Mrs. (Ma...|female|55.0|    0|    0|          248706|   16.0|       S|                   0.0|\n",
            "|         17|       0|     3|Rice, Master. Eugene|  male| 2.0|    4|    1|          382652| 29.125|       Q|                   2.0|\n",
            "|         18|       1|     2|Williams, Mr. Cha...|  male|21.0|    0|    0|          244373|   13.0|       S|                   0.0|\n",
            "|         19|       0|     3|Vander Planke, Mr...|female|31.0|    1|    0|          345763|   18.0|       S|                   0.0|\n",
            "|         20|       1|     3|Masselmani, Mrs. ...|female|21.0|    0|    0|            2649|  7.225|       C|                   1.0|\n",
            "+-----------+--------+------+--------------------+------+----+-----+-----+----------------+-------+--------+----------------------+\n",
            "only showing top 20 rows\n",
            "\n"
          ],
          "name": "stdout"
        }
      ]
    },
    {
      "cell_type": "markdown",
      "metadata": {
        "id": "098Touu9GH4d",
        "colab_type": "text"
      },
      "source": [
        "## One Hot Encoding"
      ]
    },
    {
      "cell_type": "code",
      "metadata": {
        "id": "AQ1-R8eQGGyJ",
        "colab_type": "code",
        "colab": {
          "base_uri": "https://localhost:8080/",
          "height": 459
        },
        "outputId": "32fa914a-b8d1-4fbe-f7aa-c77aa212aad8"
      },
      "source": [
        "# 以one-hot-encoding為例，Embarked示範，spark比較貼近的函數是OneHotEncoder()\n",
        "from pyspark.ml.feature import OneHotEncoder\n",
        "one_hot_encoder = OneHotEncoder(inputCol = 'Embarked_StringIndexer', outputCol = 'Embarked_OneHotEncoder')\n",
        "sdf_train_OE = one_hot_encoder.fit(sdf_train_LE).transform(sdf_train_LE)\n",
        "sdf_train_OE.show()"
      ],
      "execution_count": 26,
      "outputs": [
        {
          "output_type": "stream",
          "text": [
            "+-----------+--------+------+--------------------+------+----+-----+-----+----------------+-------+--------+----------------------+----------------------+\n",
            "|PassengerId|Survived|Pclass|                Name|   Sex| Age|SibSp|Parch|          Ticket|   Fare|Embarked|Embarked_StringIndexer|Embarked_OneHotEncoder|\n",
            "+-----------+--------+------+--------------------+------+----+-----+-----+----------------+-------+--------+----------------------+----------------------+\n",
            "|          1|       0|     3|Braund, Mr. Owen ...|  male|22.0|    1|    0|       A/5 21171|   7.25|       S|                   0.0|         (2,[0],[1.0])|\n",
            "|          2|       1|     1|Cumings, Mrs. Joh...|female|38.0|    1|    0|        PC 17599|71.2833|       C|                   1.0|         (2,[1],[1.0])|\n",
            "|          3|       1|     3|Heikkinen, Miss. ...|female|26.0|    0|    0|STON/O2. 3101282|  7.925|       S|                   0.0|         (2,[0],[1.0])|\n",
            "|          4|       1|     1|Futrelle, Mrs. Ja...|female|35.0|    1|    0|          113803|   53.1|       S|                   0.0|         (2,[0],[1.0])|\n",
            "|          5|       0|     3|Allen, Mr. Willia...|  male|35.0|    0|    0|          373450|   8.05|       S|                   0.0|         (2,[0],[1.0])|\n",
            "|          6|       0|     3|    Moran, Mr. James|  male|21.0|    0|    0|          330877| 8.4583|       Q|                   2.0|             (2,[],[])|\n",
            "|          7|       0|     1|McCarthy, Mr. Tim...|  male|54.0|    0|    0|           17463|51.8625|       S|                   0.0|         (2,[0],[1.0])|\n",
            "|          8|       0|     3|Palsson, Master. ...|  male| 2.0|    3|    1|          349909| 21.075|       S|                   0.0|         (2,[0],[1.0])|\n",
            "|          9|       1|     3|Johnson, Mrs. Osc...|female|27.0|    0|    2|          347742|11.1333|       S|                   0.0|         (2,[0],[1.0])|\n",
            "|         10|       1|     2|Nasser, Mrs. Nich...|female|14.0|    1|    0|          237736|30.0708|       C|                   1.0|         (2,[1],[1.0])|\n",
            "|         11|       1|     3|Sandstrom, Miss. ...|female| 4.0|    1|    1|         PP 9549|   16.7|       S|                   0.0|         (2,[0],[1.0])|\n",
            "|         12|       1|     1|Bonnell, Miss. El...|female|58.0|    0|    0|          113783|  26.55|       S|                   0.0|         (2,[0],[1.0])|\n",
            "|         13|       0|     3|Saundercock, Mr. ...|  male|20.0|    0|    0|       A/5. 2151|   8.05|       S|                   0.0|         (2,[0],[1.0])|\n",
            "|         14|       0|     3|Andersson, Mr. An...|  male|39.0|    1|    5|          347082| 31.275|       S|                   0.0|         (2,[0],[1.0])|\n",
            "|         15|       0|     3|Vestrom, Miss. Hu...|female|14.0|    0|    0|          350406| 7.8542|       S|                   0.0|         (2,[0],[1.0])|\n",
            "|         16|       1|     2|Hewlett, Mrs. (Ma...|female|55.0|    0|    0|          248706|   16.0|       S|                   0.0|         (2,[0],[1.0])|\n",
            "|         17|       0|     3|Rice, Master. Eugene|  male| 2.0|    4|    1|          382652| 29.125|       Q|                   2.0|             (2,[],[])|\n",
            "|         18|       1|     2|Williams, Mr. Cha...|  male|21.0|    0|    0|          244373|   13.0|       S|                   0.0|         (2,[0],[1.0])|\n",
            "|         19|       0|     3|Vander Planke, Mr...|female|31.0|    1|    0|          345763|   18.0|       S|                   0.0|         (2,[0],[1.0])|\n",
            "|         20|       1|     3|Masselmani, Mrs. ...|female|21.0|    0|    0|            2649|  7.225|       C|                   1.0|         (2,[1],[1.0])|\n",
            "+-----------+--------+------+--------------------+------+----+-----+-----+----------------+-------+--------+----------------------+----------------------+\n",
            "only showing top 20 rows\n",
            "\n"
          ],
          "name": "stdout"
        }
      ]
    },
    {
      "cell_type": "markdown",
      "metadata": {
        "id": "XhnPqB3MGSXX",
        "colab_type": "text"
      },
      "source": [
        "## Spark pipline"
      ]
    },
    {
      "cell_type": "code",
      "metadata": {
        "id": "6w1z4itgGOrB",
        "colab_type": "code",
        "colab": {
          "base_uri": "https://localhost:8080/",
          "height": 68
        },
        "outputId": "03d929d7-67da-49d9-8a58-154d88dfb74c"
      },
      "source": [
        "# Spark pipline 可以先把要做的特徵工程及模型訓練設定好，執行時會自動派發到各個節點運算\n",
        "from pyspark.ml.feature import StringIndexer, OneHotEncoder\n",
        "# 先設定要轉的類別、數值欄位\n",
        "string_features = ['Sex','Embarked']\n",
        "\n",
        "# 設定要進行的特徵工程內容\n",
        "work = []\n",
        "# label-encoding (one-hot的前置作業)\n",
        "string_indexer = [StringIndexer(inputCol=column, outputCol=column+'_StringIndexer') for column in string_features]\n",
        "# one-hot-encoding\n",
        "one_hot_encoder = [OneHotEncoder(inputCols = [column+'_StringIndexer' for column in string_features], outputCols = [column+'_OneHotEncoderEstimator' for column in string_features])]\n",
        "\n",
        "work += string_indexer\n",
        "work += one_hot_encoder\n",
        "work"
      ],
      "execution_count": 28,
      "outputs": [
        {
          "output_type": "execute_result",
          "data": {
            "text/plain": [
              "[StringIndexer_82d0dbc69223,\n",
              " StringIndexer_3dd1a82e99d3,\n",
              " OneHotEncoder_0aa56cce18a6]"
            ]
          },
          "metadata": {
            "tags": []
          },
          "execution_count": 28
        }
      ]
    },
    {
      "cell_type": "code",
      "metadata": {
        "id": "yyWGTK30GezI",
        "colab_type": "code",
        "colab": {}
      },
      "source": [
        "# 把工作內容加入pipline中\n",
        "from pyspark.ml import Pipeline\n",
        "pipline = Pipeline(stages=work)\n",
        "\n",
        "FE = pipline.fit(sdf_train_hadle_missing)\n",
        "sdf_transformed_train = FE.transform(sdf_train_hadle_missing)\n",
        "sdf_transformed_test = FE.transform(sdf_test_hadle_missing)"
      ],
      "execution_count": 29,
      "outputs": []
    },
    {
      "cell_type": "code",
      "metadata": {
        "id": "K75uOyfVGqRf",
        "colab_type": "code",
        "colab": {
          "base_uri": "https://localhost:8080/",
          "height": 479
        },
        "outputId": "b5a51285-2571-4aef-cdce-894aae9c6e4f"
      },
      "source": [
        "sdf_transformed_train.show()"
      ],
      "execution_count": 30,
      "outputs": [
        {
          "output_type": "stream",
          "text": [
            "+-----------+--------+------+--------------------+------+----+-----+-----+----------------+-------+--------+-----------------+----------------------+--------------------------+-------------------------------+\n",
            "|PassengerId|Survived|Pclass|                Name|   Sex| Age|SibSp|Parch|          Ticket|   Fare|Embarked|Sex_StringIndexer|Embarked_StringIndexer|Sex_OneHotEncoderEstimator|Embarked_OneHotEncoderEstimator|\n",
            "+-----------+--------+------+--------------------+------+----+-----+-----+----------------+-------+--------+-----------------+----------------------+--------------------------+-------------------------------+\n",
            "|          1|       0|     3|Braund, Mr. Owen ...|  male|22.0|    1|    0|       A/5 21171|   7.25|       S|              0.0|                   0.0|             (1,[0],[1.0])|                  (2,[0],[1.0])|\n",
            "|          2|       1|     1|Cumings, Mrs. Joh...|female|38.0|    1|    0|        PC 17599|71.2833|       C|              1.0|                   1.0|                 (1,[],[])|                  (2,[1],[1.0])|\n",
            "|          3|       1|     3|Heikkinen, Miss. ...|female|26.0|    0|    0|STON/O2. 3101282|  7.925|       S|              1.0|                   0.0|                 (1,[],[])|                  (2,[0],[1.0])|\n",
            "|          4|       1|     1|Futrelle, Mrs. Ja...|female|35.0|    1|    0|          113803|   53.1|       S|              1.0|                   0.0|                 (1,[],[])|                  (2,[0],[1.0])|\n",
            "|          5|       0|     3|Allen, Mr. Willia...|  male|35.0|    0|    0|          373450|   8.05|       S|              0.0|                   0.0|             (1,[0],[1.0])|                  (2,[0],[1.0])|\n",
            "|          6|       0|     3|    Moran, Mr. James|  male|21.0|    0|    0|          330877| 8.4583|       Q|              0.0|                   2.0|             (1,[0],[1.0])|                      (2,[],[])|\n",
            "|          7|       0|     1|McCarthy, Mr. Tim...|  male|54.0|    0|    0|           17463|51.8625|       S|              0.0|                   0.0|             (1,[0],[1.0])|                  (2,[0],[1.0])|\n",
            "|          8|       0|     3|Palsson, Master. ...|  male| 2.0|    3|    1|          349909| 21.075|       S|              0.0|                   0.0|             (1,[0],[1.0])|                  (2,[0],[1.0])|\n",
            "|          9|       1|     3|Johnson, Mrs. Osc...|female|27.0|    0|    2|          347742|11.1333|       S|              1.0|                   0.0|                 (1,[],[])|                  (2,[0],[1.0])|\n",
            "|         10|       1|     2|Nasser, Mrs. Nich...|female|14.0|    1|    0|          237736|30.0708|       C|              1.0|                   1.0|                 (1,[],[])|                  (2,[1],[1.0])|\n",
            "|         11|       1|     3|Sandstrom, Miss. ...|female| 4.0|    1|    1|         PP 9549|   16.7|       S|              1.0|                   0.0|                 (1,[],[])|                  (2,[0],[1.0])|\n",
            "|         12|       1|     1|Bonnell, Miss. El...|female|58.0|    0|    0|          113783|  26.55|       S|              1.0|                   0.0|                 (1,[],[])|                  (2,[0],[1.0])|\n",
            "|         13|       0|     3|Saundercock, Mr. ...|  male|20.0|    0|    0|       A/5. 2151|   8.05|       S|              0.0|                   0.0|             (1,[0],[1.0])|                  (2,[0],[1.0])|\n",
            "|         14|       0|     3|Andersson, Mr. An...|  male|39.0|    1|    5|          347082| 31.275|       S|              0.0|                   0.0|             (1,[0],[1.0])|                  (2,[0],[1.0])|\n",
            "|         15|       0|     3|Vestrom, Miss. Hu...|female|14.0|    0|    0|          350406| 7.8542|       S|              1.0|                   0.0|                 (1,[],[])|                  (2,[0],[1.0])|\n",
            "|         16|       1|     2|Hewlett, Mrs. (Ma...|female|55.0|    0|    0|          248706|   16.0|       S|              1.0|                   0.0|                 (1,[],[])|                  (2,[0],[1.0])|\n",
            "|         17|       0|     3|Rice, Master. Eugene|  male| 2.0|    4|    1|          382652| 29.125|       Q|              0.0|                   2.0|             (1,[0],[1.0])|                      (2,[],[])|\n",
            "|         18|       1|     2|Williams, Mr. Cha...|  male|21.0|    0|    0|          244373|   13.0|       S|              0.0|                   0.0|             (1,[0],[1.0])|                  (2,[0],[1.0])|\n",
            "|         19|       0|     3|Vander Planke, Mr...|female|31.0|    1|    0|          345763|   18.0|       S|              1.0|                   0.0|                 (1,[],[])|                  (2,[0],[1.0])|\n",
            "|         20|       1|     3|Masselmani, Mrs. ...|female|21.0|    0|    0|            2649|  7.225|       C|              1.0|                   1.0|                 (1,[],[])|                  (2,[1],[1.0])|\n",
            "+-----------+--------+------+--------------------+------+----+-----+-----+----------------+-------+--------+-----------------+----------------------+--------------------------+-------------------------------+\n",
            "only showing top 20 rows\n",
            "\n"
          ],
          "name": "stdout"
        }
      ]
    },
    {
      "cell_type": "markdown",
      "metadata": {
        "id": "qZqqPIDIGtih",
        "colab_type": "text"
      },
      "source": [
        "# 模型訓練"
      ]
    },
    {
      "cell_type": "code",
      "metadata": {
        "id": "NvUSU3rGGrVA",
        "colab_type": "code",
        "colab": {}
      },
      "source": [
        "# 透過pipline處理特徵轉向量及RandomForest訓練\n",
        "from pyspark.ml.feature import VectorAssembler\n",
        "from pyspark.ml.classification import RandomForestClassifier\n",
        "\n",
        "features = ['Pclass','Age','SibSp','Parch','Fare','Sex_OneHotEncoderEstimator','Embarked_OneHotEncoderEstimator']\n",
        "vector_assembler = VectorAssembler(inputCols=features, outputCol='Features_Vec')\n",
        "\n",
        "rf = RandomForestClassifier(labelCol = 'Survived',\n",
        "                            featuresCol = 'Features_Vec',\n",
        "                            numTrees = 100,\n",
        "                            maxDepth = 4,\n",
        "                            maxBins = 1000)\n",
        "\n",
        "work = vector_assembler,rf\n",
        "pipeline = Pipeline(stages=work)"
      ],
      "execution_count": 31,
      "outputs": []
    },
    {
      "cell_type": "code",
      "metadata": {
        "id": "C10Zk2GwG0iI",
        "colab_type": "code",
        "colab": {}
      },
      "source": [
        "# 模型訓練並套用在測試資料上\n",
        "model = pipeline.fit(sdf_transformed_train)\n",
        "sdf_predict = model.transform(sdf_transformed_test)"
      ],
      "execution_count": 32,
      "outputs": []
    },
    {
      "cell_type": "code",
      "metadata": {
        "id": "ItoT4Sl0G2nI",
        "colab_type": "code",
        "colab": {
          "base_uri": "https://localhost:8080/",
          "height": 479
        },
        "outputId": "231c1d5e-853e-488a-bf37-12cfbaf9445f"
      },
      "source": [
        "# 預測結果\n",
        "sdf_predict.show()"
      ],
      "execution_count": 33,
      "outputs": [
        {
          "output_type": "stream",
          "text": [
            "+-----------+------+--------------------+------+----+-----+-----+----------------+-------+--------+-----------------+----------------------+--------------------------+-------------------------------+--------------------+--------------------+--------------------+----------+\n",
            "|PassengerId|Pclass|                Name|   Sex| Age|SibSp|Parch|          Ticket|   Fare|Embarked|Sex_StringIndexer|Embarked_StringIndexer|Sex_OneHotEncoderEstimator|Embarked_OneHotEncoderEstimator|        Features_Vec|       rawPrediction|         probability|prediction|\n",
            "+-----------+------+--------------------+------+----+-----+-----+----------------+-------+--------+-----------------+----------------------+--------------------------+-------------------------------+--------------------+--------------------+--------------------+----------+\n",
            "|        892|     3|    Kelly, Mr. James|  male|34.5|    0|    0|          330911| 7.8292|       Q|              0.0|                   2.0|             (1,[0],[1.0])|                      (2,[],[])|(8,[0,1,4,5],[3.0...|[84.7913707727362...|[0.84791370772736...|       0.0|\n",
            "|        893|     3|Wilkes, Mrs. Jame...|female|47.0|    1|    0|          363272|    7.0|       S|              1.0|                   0.0|                 (1,[],[])|                  (2,[0],[1.0])|[3.0,47.0,1.0,0.0...|[57.8300939902936...|[0.57830093990293...|       0.0|\n",
            "|        894|     2|Myles, Mr. Thomas...|  male|62.0|    0|    0|          240276| 9.6875|       Q|              0.0|                   2.0|             (1,[0],[1.0])|                      (2,[],[])|(8,[0,1,4,5],[2.0...|[81.8691980640530...|[0.81869198064053...|       0.0|\n",
            "|        895|     3|    Wirz, Mr. Albert|  male|27.0|    0|    0|          315154| 8.6625|       S|              0.0|                   0.0|             (1,[0],[1.0])|                  (2,[0],[1.0])|[3.0,27.0,0.0,0.0...|[85.4668903108467...|[0.85466890310846...|       0.0|\n",
            "|        896|     3|Hirvonen, Mrs. Al...|female|22.0|    1|    1|         3101298|12.2875|       S|              1.0|                   0.0|                 (1,[],[])|                  (2,[0],[1.0])|[3.0,22.0,1.0,1.0...|[52.0840130157800...|[0.52084013015780...|       0.0|\n",
            "|        897|     3|Svensson, Mr. Joh...|  male|14.0|    0|    0|            7538|  9.225|       S|              0.0|                   0.0|             (1,[0],[1.0])|                  (2,[0],[1.0])|[3.0,14.0,0.0,0.0...|[84.8070188489653...|[0.84807018848965...|       0.0|\n",
            "|        898|     3|Connolly, Miss. Kate|female|30.0|    0|    0|          330972| 7.6292|       Q|              1.0|                   2.0|                 (1,[],[])|                      (2,[],[])|(8,[0,1,4],[3.0,3...|[46.8185331810104...|[0.46818533181010...|       1.0|\n",
            "|        899|     2|Caldwell, Mr. Alb...|  male|26.0|    1|    1|          248738|   29.0|       S|              0.0|                   0.0|             (1,[0],[1.0])|                  (2,[0],[1.0])|[2.0,26.0,1.0,1.0...|[71.7639958456526...|[0.71763995845652...|       0.0|\n",
            "|        900|     3|Abrahim, Mrs. Jos...|female|18.0|    0|    0|            2657| 7.2292|       C|              1.0|                   1.0|                 (1,[],[])|                  (2,[1],[1.0])|(8,[0,1,4,7],[3.0...|[36.3064295110960...|[0.36306429511096...|       1.0|\n",
            "|        901|     3|Davies, Mr. John ...|  male|21.0|    2|    0|       A/4 48871|  24.15|       S|              0.0|                   0.0|             (1,[0],[1.0])|                  (2,[0],[1.0])|[3.0,21.0,2.0,0.0...|[82.9122623752306...|[0.82912262375230...|       0.0|\n",
            "|        902|     3|    Ilieff, Mr. Ylio|  male|21.0|    0|    0|          349220| 7.8958|       S|              0.0|                   0.0|             (1,[0],[1.0])|                  (2,[0],[1.0])|[3.0,21.0,0.0,0.0...|[85.8264997484110...|[0.85826499748411...|       0.0|\n",
            "|        903|     1|Jones, Mr. Charle...|  male|46.0|    0|    0|             694|   26.0|       S|              0.0|                   0.0|             (1,[0],[1.0])|                  (2,[0],[1.0])|[1.0,46.0,0.0,0.0...|[72.8822123518126...|[0.72882212351812...|       0.0|\n",
            "|        904|     1|Snyder, Mrs. John...|female|23.0|    1|    0|           21228|82.2667|       S|              1.0|                   0.0|                 (1,[],[])|                  (2,[0],[1.0])|[1.0,23.0,1.0,0.0...|[12.2977632797542...|[0.12297763279754...|       1.0|\n",
            "|        905|     2|Howard, Mr. Benjamin|  male|63.0|    1|    0|           24065|   26.0|       S|              0.0|                   0.0|             (1,[0],[1.0])|                  (2,[0],[1.0])|[2.0,63.0,1.0,0.0...|[77.7694360722387...|[0.77769436072238...|       0.0|\n",
            "|        906|     1|Chaffee, Mrs. Her...|female|47.0|    1|    0|     W.E.P. 5734| 61.175|       S|              1.0|                   0.0|                 (1,[],[])|                  (2,[0],[1.0])|[1.0,47.0,1.0,0.0...|[14.8074299698222...|[0.14807429969822...|       1.0|\n",
            "|        907|     2|del Carlo, Mrs. S...|female|24.0|    1|    0|   SC/PARIS 2167|27.7208|       C|              1.0|                   1.0|                 (1,[],[])|                  (2,[1],[1.0])|[2.0,24.0,1.0,0.0...|[19.3532559715340...|[0.19353255971534...|       1.0|\n",
            "|        908|     2|   Keane, Mr. Daniel|  male|35.0|    0|    0|          233734|  12.35|       Q|              0.0|                   2.0|             (1,[0],[1.0])|                      (2,[],[])|(8,[0,1,4,5],[2.0...|[78.3324398195195...|[0.78332439819519...|       0.0|\n",
            "|        909|     3|   Assaf, Mr. Gerios|  male|21.0|    0|    0|            2692|  7.225|       C|              0.0|                   1.0|             (1,[0],[1.0])|                  (2,[1],[1.0])|[3.0,21.0,0.0,0.0...|[83.2181087771872...|[0.83218108777187...|       0.0|\n",
            "|        910|     3|Ilmakangas, Miss....|female|27.0|    1|    0|STON/O2. 3101270|  7.925|       S|              1.0|                   0.0|                 (1,[],[])|                  (2,[0],[1.0])|[3.0,27.0,1.0,0.0...|[56.3248131845238...|[0.56324813184523...|       0.0|\n",
            "|        911|     3|\"Assaf Khalil, Mr...|female|45.0|    0|    0|            2696|  7.225|       C|              1.0|                   1.0|                 (1,[],[])|                  (2,[1],[1.0])|(8,[0,1,4,7],[3.0...|[46.2995506570306...|[0.46299550657030...|       1.0|\n",
            "+-----------+------+--------------------+------+----+-----+-----+----------------+-------+--------+-----------------+----------------------+--------------------------+-------------------------------+--------------------+--------------------+--------------------+----------+\n",
            "only showing top 20 rows\n",
            "\n"
          ],
          "name": "stdout"
        }
      ]
    },
    {
      "cell_type": "markdown",
      "metadata": {
        "id": "4N18L7WvG6u1",
        "colab_type": "text"
      },
      "source": [
        "# 資料集切割"
      ]
    },
    {
      "cell_type": "code",
      "metadata": {
        "id": "kmi65OsiG_yO",
        "colab_type": "code",
        "colab": {
          "base_uri": "https://localhost:8080/",
          "height": 68
        },
        "outputId": "3916785d-6814-4bc9-90b1-f0de0778cee8"
      },
      "source": [
        "# randomSplit()後面帶資料集切割比例\n",
        "(traindata, validata) = sdf_transformed_train.randomSplit([0.8, 0.2])\n",
        "\n",
        "print(sdf_transformed_train.count())\n",
        "print(traindata.count())\n",
        "print(validata.count())"
      ],
      "execution_count": 34,
      "outputs": [
        {
          "output_type": "stream",
          "text": [
            "889\n",
            "718\n",
            "171\n"
          ],
          "name": "stdout"
        }
      ]
    },
    {
      "cell_type": "markdown",
      "metadata": {
        "id": "kJZ00VAWHFZC",
        "colab_type": "text"
      },
      "source": [
        "# 模型成效評估"
      ]
    },
    {
      "cell_type": "markdown",
      "metadata": {
        "id": "nlKrG0MrHI9k",
        "colab_type": "text"
      },
      "source": [
        "## 模型重新訓練"
      ]
    },
    {
      "cell_type": "code",
      "metadata": {
        "id": "dIwQpe0uG_0j",
        "colab_type": "code",
        "colab": {
          "base_uri": "https://localhost:8080/",
          "height": 479
        },
        "outputId": "1d523ab2-2fd2-4ace-ccf8-7faa5701f49d"
      },
      "source": [
        "# 改用logistic regression訓練\n",
        "from pyspark.ml.feature import VectorAssembler\n",
        "from pyspark.ml.classification import LogisticRegression\n",
        "features = ['Pclass','Age','SibSp','Parch','Fare','Sex_OneHotEncoderEstimator','Embarked_OneHotEncoderEstimator']\n",
        "vector_assembler = VectorAssembler(inputCols=features, outputCol='Features_Vec')\n",
        "lr = LogisticRegression(labelCol='Survived', featuresCol = 'Features_Vec')\n",
        "\n",
        "work = vector_assembler,lr\n",
        "pipeline = Pipeline(stages=work)\n",
        "\n",
        "\n",
        "# 模型訓練並套用在validata資料上\n",
        "lr_model = pipeline.fit(traindata)\n",
        "lr_predict = lr_model.transform(validata)\n",
        "\n",
        "\n",
        "# 顯示validata預測結果\n",
        "lr_predict.show()"
      ],
      "execution_count": 35,
      "outputs": [
        {
          "output_type": "stream",
          "text": [
            "+-----------+--------+------+--------------------+------+----+-----+-----+----------+--------+--------+-----------------+----------------------+--------------------------+-------------------------------+--------------------+--------------------+--------------------+----------+\n",
            "|PassengerId|Survived|Pclass|                Name|   Sex| Age|SibSp|Parch|    Ticket|    Fare|Embarked|Sex_StringIndexer|Embarked_StringIndexer|Sex_OneHotEncoderEstimator|Embarked_OneHotEncoderEstimator|        Features_Vec|       rawPrediction|         probability|prediction|\n",
            "+-----------+--------+------+--------------------+------+----+-----+-----+----------+--------+--------+-----------------+----------------------+--------------------------+-------------------------------+--------------------+--------------------+--------------------+----------+\n",
            "|          4|       1|     1|Futrelle, Mrs. Ja...|female|35.0|    1|    0|    113803|    53.1|       S|              1.0|                   0.0|                 (1,[],[])|                  (2,[0],[1.0])|[1.0,35.0,1.0,0.0...|[-2.2607753824094...|[0.09442404658438...|       1.0|\n",
            "|         10|       1|     2|Nasser, Mrs. Nich...|female|14.0|    1|    0|    237736| 30.0708|       C|              1.0|                   1.0|                 (1,[],[])|                  (2,[1],[1.0])|[2.0,14.0,1.0,0.0...|[-2.1211387317726...|[0.10705916185862...|       1.0|\n",
            "|         14|       0|     3|Andersson, Mr. An...|  male|39.0|    1|    5|    347082|  31.275|       S|              0.0|                   0.0|             (1,[0],[1.0])|                  (2,[0],[1.0])|[3.0,39.0,1.0,5.0...|[3.62562368597327...|[0.97405840715061...|       0.0|\n",
            "|         15|       0|     3|Vestrom, Miss. Hu...|female|14.0|    0|    0|    350406|  7.8542|       S|              1.0|                   0.0|                 (1,[],[])|                  (2,[0],[1.0])|(8,[0,1,4,6],[3.0...|[-0.8558153789748...|[0.29821437371291...|       1.0|\n",
            "|         26|       1|     3|Asplund, Mrs. Car...|female|38.0|    1|    5|    347077| 31.3875|       S|              1.0|                   0.0|                 (1,[],[])|                  (2,[0],[1.0])|[3.0,38.0,1.0,5.0...|[0.88508351133769...|[0.70787454088140...|       0.0|\n",
            "|         32|       1|     1|Spencer, Mrs. Wil...|female|21.0|    1|    0|  PC 17569|146.5208|       C|              1.0|                   1.0|                 (1,[],[])|                  (2,[1],[1.0])|[1.0,21.0,1.0,0.0...|[-3.3025399386990...|[0.03548415715269...|       1.0|\n",
            "|         50|       0|     3|Arnold-Franchi, M...|female|18.0|    1|    0|    349237|    17.8|       S|              1.0|                   0.0|                 (1,[],[])|                  (2,[0],[1.0])|[3.0,18.0,1.0,0.0...|[-0.4726883363387...|[0.38398014814511...|       1.0|\n",
            "|         58|       0|     3| Novel, Mr. Mansouer|  male|28.5|    0|    0|      2697|  7.2292|       C|              0.0|                   1.0|             (1,[0],[1.0])|                  (2,[1],[1.0])|[3.0,28.5,0.0,0.0...|[2.03696612580408...|[0.88462397856705...|       0.0|\n",
            "|         61|       0|     3|Sirayanian, Mr. O...|  male|22.0|    0|    0|      2669|  7.2292|       C|              0.0|                   1.0|             (1,[0],[1.0])|                  (2,[1],[1.0])|[3.0,22.0,0.0,0.0...|[1.80741773565762...|[0.85904949456325...|       0.0|\n",
            "|         64|       0|     3|Skoog, Master. Ha...|  male| 4.0|    3|    2|    347088|    27.9|       S|              0.0|                   0.0|             (1,[0],[1.0])|                  (2,[0],[1.0])|[3.0,4.0,3.0,2.0,...|[2.51830086270156...|[0.92541486138692...|       0.0|\n",
            "|         65|       0|     1|Stewart, Mr. Albe...|  male|21.0|    0|    0|  PC 17605| 27.7208|       C|              0.0|                   1.0|             (1,[0],[1.0])|                  (2,[1],[1.0])|[1.0,21.0,0.0,0.0...|[-0.5812115475471...|[0.35865386426218...|       1.0|\n",
            "|         67|       1|     2|Nye, Mrs. (Elizab...|female|29.0|    0|    0|C.A. 29395|    10.5|       S|              1.0|                   0.0|                 (1,[],[])|                  (2,[0],[1.0])|(8,[0,1,4,6],[2.0...|[-1.4847157841916...|[0.18471618435828...|       1.0|\n",
            "|         78|       0|     3|Moutal, Mr. Raham...|  male|21.0|    0|    0|    374746|    8.05|       S|              0.0|                   0.0|             (1,[0],[1.0])|                  (2,[0],[1.0])|[3.0,21.0,0.0,0.0...|[2.09588423181954...|[0.89050250386402...|       0.0|\n",
            "|         84|       0|     1|Carrau, Mr. Franc...|  male|28.0|    0|    0|    113059|    47.1|       S|              0.0|                   0.0|             (1,[0],[1.0])|                  (2,[0],[1.0])|[1.0,28.0,0.0,0.0...|[-0.0542503746917...|[0.48644073169106...|       1.0|\n",
            "|         96|       0|     3|Shorney, Mr. Char...|  male|21.0|    0|    0|    374910|    8.05|       S|              0.0|                   0.0|             (1,[0],[1.0])|                  (2,[0],[1.0])|[3.0,21.0,0.0,0.0...|[2.09588423181954...|[0.89050250386402...|       0.0|\n",
            "|        100|       0|     2|   Kantor, Mr. Sinai|  male|34.0|    1|    0|    244367|    26.0|       S|              0.0|                   0.0|             (1,[0],[1.0])|                  (2,[0],[1.0])|[2.0,34.0,1.0,0.0...|[1.62550822095944...|[0.83555338056922...|       0.0|\n",
            "|        108|       1|     3|Moss, Mr. Albert ...|  male|21.0|    0|    0|    312991|   7.775|       S|              0.0|                   0.0|             (1,[0],[1.0])|                  (2,[0],[1.0])|[3.0,21.0,0.0,0.0...|[2.09653661915840...|[0.89056610051051...|       0.0|\n",
            "|        110|       1|     3| Moran, Miss. Bertha|female|21.0|    1|    0|    371110|   24.15|       Q|              1.0|                   2.0|                 (1,[],[])|                      (2,[],[])|(8,[0,1,2,4],[3.0...|[-0.7000401963308...|[0.33180331584807...|       1.0|\n",
            "|        112|       0|     3|Zabour, Miss. Hileni|female|14.5|    1|    0|      2665| 14.4542|       C|              1.0|                   1.0|                 (1,[],[])|                  (2,[1],[1.0])|[3.0,14.5,1.0,0.0...|[-0.9140828468263...|[0.28616508759900...|       1.0|\n",
            "|        114|       0|     3|Jussila, Miss. Ka...|female|20.0|    1|    0|      4136|   9.825|       S|              1.0|                   0.0|                 (1,[],[])|                  (2,[0],[1.0])|[3.0,20.0,1.0,0.0...|[-0.3831388296204...|[0.40537007314866...|       1.0|\n",
            "+-----------+--------+------+--------------------+------+----+-----+-----+----------+--------+--------+-----------------+----------------------+--------------------------+-------------------------------+--------------------+--------------------+--------------------+----------+\n",
            "only showing top 20 rows\n",
            "\n"
          ],
          "name": "stdout"
        }
      ]
    },
    {
      "cell_type": "markdown",
      "metadata": {
        "id": "iOfxVZbAHSkK",
        "colab_type": "text"
      },
      "source": [
        "## 模型評估指標\n",
        "- Spark 的 MulticlassClassificationEvaluator()"
      ]
    },
    {
      "cell_type": "code",
      "metadata": {
        "id": "33xJDAHgG_2g",
        "colab_type": "code",
        "colab": {}
      },
      "source": [
        "from pyspark.ml.evaluation import MulticlassClassificationEvaluator\n",
        "df_eval = lr_predict.select('prediction','Survived')\n",
        "eval_acc = MulticlassClassificationEvaluator(labelCol=\"Survived\", predictionCol=\"prediction\", metricName=\"accuracy\")\n",
        "eval_f1 = MulticlassClassificationEvaluator(labelCol=\"Survived\", predictionCol=\"prediction\", metricName=\"f1\")\n",
        "eval_pre = MulticlassClassificationEvaluator(labelCol=\"Survived\", predictionCol=\"prediction\", metricName=\"weightedPrecision\")\n",
        "eval_recall = MulticlassClassificationEvaluator(labelCol=\"Survived\", predictionCol=\"prediction\", metricName=\"weightedRecall\")"
      ],
      "execution_count": 36,
      "outputs": []
    },
    {
      "cell_type": "code",
      "metadata": {
        "id": "3jjtloJ8G4yH",
        "colab_type": "code",
        "colab": {
          "base_uri": "https://localhost:8080/",
          "height": 85
        },
        "outputId": "9b1d869f-99f2-41e6-be6a-3ddcb3c71957"
      },
      "source": [
        "print('pyspark accuracy: %.6f' %eval_acc.evaluate(df_eval))\n",
        "print('pyspark f1-score: %.6f' %eval_f1.evaluate(df_eval))\n",
        "print('pyspark precision: %.6f' %eval_pre.evaluate(df_eval))\n",
        "print('pyspark recall: %.6f' %eval_recall.evaluate(df_eval))"
      ],
      "execution_count": 38,
      "outputs": [
        {
          "output_type": "stream",
          "text": [
            "pyspark accuracy: 0.812865\n",
            "pyspark f1-score: 0.812149\n",
            "pyspark precision: 0.811667\n",
            "pyspark recall: 0.812865\n"
          ],
          "name": "stdout"
        }
      ]
    },
    {
      "cell_type": "markdown",
      "metadata": {
        "id": "SVtRhnocHlHS",
        "colab_type": "text"
      },
      "source": [
        "- 對比 sklearn 的 metrics()"
      ]
    },
    {
      "cell_type": "code",
      "metadata": {
        "id": "UMsFIyIlHaKv",
        "colab_type": "code",
        "colab": {}
      },
      "source": [
        "from sklearn import metrics\n",
        "pd_eval = df_eval.toPandas()\n",
        "sklern_acc = metrics.accuracy_score(pd_eval['Survived'], pd_eval['prediction'])\n",
        "sklern_f1 = metrics.f1_score(pd_eval['Survived'], pd_eval['prediction'], average='weighted')\n",
        "sklern_pre = metrics.precision_score(pd_eval['Survived'], pd_eval['prediction'], average='weighted')\n",
        "sklern_recall = metrics.recall_score(pd_eval['Survived'], pd_eval['prediction'], average='weighted')"
      ],
      "execution_count": 39,
      "outputs": []
    },
    {
      "cell_type": "code",
      "metadata": {
        "id": "yYp0gKzyHvbe",
        "colab_type": "code",
        "colab": {
          "base_uri": "https://localhost:8080/",
          "height": 85
        },
        "outputId": "7941e27d-48c7-4ef5-ed4b-c46011f6bdd5"
      },
      "source": [
        "print('sklearn accuracy: %.6f' %sklern_acc)\n",
        "print('sklearn f1-score: %.6f' %sklern_f1)\n",
        "print('sklearn precision: %.6f' %sklern_pre)\n",
        "print('sklearn recall: %.6f' %sklern_recall)"
      ],
      "execution_count": 40,
      "outputs": [
        {
          "output_type": "stream",
          "text": [
            "sklearn accuracy: 0.812865\n",
            "sklearn f1-score: 0.812149\n",
            "sklearn precision: 0.811667\n",
            "sklearn recall: 0.812865\n"
          ],
          "name": "stdout"
        }
      ]
    },
    {
      "cell_type": "markdown",
      "metadata": {
        "id": "qzJPrWBDHyqo",
        "colab_type": "text"
      },
      "source": [
        "#演算法套用練習\n",
        "嘗試將演算法換成 Gradient-Boosted Trees (GBTs) 重新訓練，並使用 validata 驗證模型成效，參數帶 input、output 即可。\n",
        "\n",
        "參考連結：https://spark.apache.org/docs/latest/ml-classification-regression.html#gradient-boosted-tree-classifier\n"
      ]
    },
    {
      "cell_type": "code",
      "metadata": {
        "id": "a61svZN-HyGI",
        "colab_type": "code",
        "colab": {
          "base_uri": "https://localhost:8080/",
          "height": 479
        },
        "outputId": "2b9da673-edef-43ca-f43b-502d64775c3c"
      },
      "source": [
        "# 演算法改GBT\n",
        "from pyspark.ml.feature import VectorAssembler\n",
        "from pyspark.ml.classification import GBTClassifier\n",
        "\n",
        "features = ['Pclass','Age','SibSp','Parch','Fare','Sex_OneHotEncoderEstimator','Embarked_OneHotEncoderEstimator']\n",
        "vector_assembler = VectorAssembler(inputCols=features, outputCol='Features_Vec')\n",
        "GBT = GBTClassifier(labelCol='Survived', featuresCol = 'Features_Vec')\n",
        "\n",
        "work = vector_assembler,GBT\n",
        "pipeline = Pipeline(stages=work)\n",
        "\n",
        "\n",
        "# 模型訓練並套用在validata資料上\n",
        "GBT_model = pipeline.fit(traindata)\n",
        "GBT_predict = GBT_model.transform(validata)\n",
        "\n",
        "# 顯示validata預測結果\n",
        "GBT_predict.show()"
      ],
      "execution_count": 41,
      "outputs": [
        {
          "output_type": "stream",
          "text": [
            "+-----------+--------+------+--------------------+------+----+-----+-----+----------+--------+--------+-----------------+----------------------+--------------------------+-------------------------------+--------------------+--------------------+--------------------+----------+\n",
            "|PassengerId|Survived|Pclass|                Name|   Sex| Age|SibSp|Parch|    Ticket|    Fare|Embarked|Sex_StringIndexer|Embarked_StringIndexer|Sex_OneHotEncoderEstimator|Embarked_OneHotEncoderEstimator|        Features_Vec|       rawPrediction|         probability|prediction|\n",
            "+-----------+--------+------+--------------------+------+----+-----+-----+----------+--------+--------+-----------------+----------------------+--------------------------+-------------------------------+--------------------+--------------------+--------------------+----------+\n",
            "|          4|       1|     1|Futrelle, Mrs. Ja...|female|35.0|    1|    0|    113803|    53.1|       S|              1.0|                   0.0|                 (1,[],[])|                  (2,[0],[1.0])|[1.0,35.0,1.0,0.0...|[-1.5406114727940...|[0.04388846918689...|       1.0|\n",
            "|         10|       1|     2|Nasser, Mrs. Nich...|female|14.0|    1|    0|    237736| 30.0708|       C|              1.0|                   1.0|                 (1,[],[])|                  (2,[1],[1.0])|[2.0,14.0,1.0,0.0...|[-1.6061603943035...|[0.03870469321164...|       1.0|\n",
            "|         14|       0|     3|Andersson, Mr. An...|  male|39.0|    1|    5|    347082|  31.275|       S|              0.0|                   0.0|             (1,[0],[1.0])|                  (2,[0],[1.0])|[3.0,39.0,1.0,5.0...|[1.08256627445128...|[0.89707441332035...|       0.0|\n",
            "|         15|       0|     3|Vestrom, Miss. Hu...|female|14.0|    0|    0|    350406|  7.8542|       S|              1.0|                   0.0|                 (1,[],[])|                  (2,[0],[1.0])|(8,[0,1,4,6],[3.0...|[-0.9287384491026...|[0.13499741115283...|       1.0|\n",
            "|         26|       1|     3|Asplund, Mrs. Car...|female|38.0|    1|    5|    347077| 31.3875|       S|              1.0|                   0.0|                 (1,[],[])|                  (2,[0],[1.0])|[3.0,38.0,1.0,5.0...|[1.39210473604727...|[0.94181654516370...|       0.0|\n",
            "|         32|       1|     1|Spencer, Mrs. Wil...|female|21.0|    1|    0|  PC 17569|146.5208|       C|              1.0|                   1.0|                 (1,[],[])|                  (2,[1],[1.0])|[1.0,21.0,1.0,0.0...|[-1.5698997087637...|[0.04149509638553...|       1.0|\n",
            "|         50|       0|     3|Arnold-Franchi, M...|female|18.0|    1|    0|    349237|    17.8|       S|              1.0|                   0.0|                 (1,[],[])|                  (2,[0],[1.0])|[3.0,18.0,1.0,0.0...|[-0.0919910721164...|[0.45413376982059...|       1.0|\n",
            "|         58|       0|     3| Novel, Mr. Mansouer|  male|28.5|    0|    0|      2697|  7.2292|       C|              0.0|                   1.0|             (1,[0],[1.0])|                  (2,[1],[1.0])|[3.0,28.5,0.0,0.0...|[-0.0992080193288...|[0.45055809023780...|       1.0|\n",
            "|         61|       0|     3|Sirayanian, Mr. O...|  male|22.0|    0|    0|      2669|  7.2292|       C|              0.0|                   1.0|             (1,[0],[1.0])|                  (2,[1],[1.0])|[3.0,22.0,0.0,0.0...|[0.57387664493485...|[0.75910030693655...|       0.0|\n",
            "|         64|       0|     3|Skoog, Master. Ha...|  male| 4.0|    3|    2|    347088|    27.9|       S|              0.0|                   0.0|             (1,[0],[1.0])|                  (2,[0],[1.0])|[3.0,4.0,3.0,2.0,...|[0.42156031133539...|[0.69912204787324...|       0.0|\n",
            "|         65|       0|     1|Stewart, Mr. Albe...|  male|21.0|    0|    0|  PC 17605| 27.7208|       C|              0.0|                   1.0|             (1,[0],[1.0])|                  (2,[1],[1.0])|[1.0,21.0,0.0,0.0...|[0.24876025577055...|[0.62187646552897...|       0.0|\n",
            "|         67|       1|     2|Nye, Mrs. (Elizab...|female|29.0|    0|    0|C.A. 29395|    10.5|       S|              1.0|                   0.0|                 (1,[],[])|                  (2,[0],[1.0])|(8,[0,1,4,6],[2.0...|[-1.3525912567414...|[0.06266823953170...|       1.0|\n",
            "|         78|       0|     3|Moutal, Mr. Raham...|  male|21.0|    0|    0|    374746|    8.05|       S|              0.0|                   0.0|             (1,[0],[1.0])|                  (2,[0],[1.0])|[3.0,21.0,0.0,0.0...|[1.07984939274766...|[0.89657161997087...|       0.0|\n",
            "|         84|       0|     1|Carrau, Mr. Franc...|  male|28.0|    0|    0|    113059|    47.1|       S|              0.0|                   0.0|             (1,[0],[1.0])|                  (2,[0],[1.0])|[1.0,28.0,0.0,0.0...|[0.01539879146345...|[0.50769878722207...|       0.0|\n",
            "|         96|       0|     3|Shorney, Mr. Char...|  male|21.0|    0|    0|    374910|    8.05|       S|              0.0|                   0.0|             (1,[0],[1.0])|                  (2,[0],[1.0])|[3.0,21.0,0.0,0.0...|[1.07984939274766...|[0.89657161997087...|       0.0|\n",
            "|        100|       0|     2|   Kantor, Mr. Sinai|  male|34.0|    1|    0|    244367|    26.0|       S|              0.0|                   0.0|             (1,[0],[1.0])|                  (2,[0],[1.0])|[2.0,34.0,1.0,0.0...|[1.01720528026904...|[0.88436288985374...|       0.0|\n",
            "|        108|       1|     3|Moss, Mr. Albert ...|  male|21.0|    0|    0|    312991|   7.775|       S|              0.0|                   0.0|             (1,[0],[1.0])|                  (2,[0],[1.0])|[3.0,21.0,0.0,0.0...|[1.25069667836410...|[0.92423944175548...|       0.0|\n",
            "|        110|       1|     3| Moran, Miss. Bertha|female|21.0|    1|    0|    371110|   24.15|       Q|              1.0|                   2.0|                 (1,[],[])|                      (2,[],[])|(8,[0,1,2,4],[3.0...|[-1.1903653496004...|[0.08465392838700...|       1.0|\n",
            "|        112|       0|     3|Zabour, Miss. Hileni|female|14.5|    1|    0|      2665| 14.4542|       C|              1.0|                   1.0|                 (1,[],[])|                  (2,[1],[1.0])|[3.0,14.5,1.0,0.0...|[-0.3047068345296...|[0.35219295953251...|       1.0|\n",
            "|        114|       0|     3|Jussila, Miss. Ka...|female|20.0|    1|    0|      4136|   9.825|       S|              1.0|                   0.0|                 (1,[],[])|                  (2,[0],[1.0])|[3.0,20.0,1.0,0.0...|[0.41786243565418...|[0.69756406126283...|       0.0|\n",
            "+-----------+--------+------+--------------------+------+----+-----+-----+----------+--------+--------+-----------------+----------------------+--------------------------+-------------------------------+--------------------+--------------------+--------------------+----------+\n",
            "only showing top 20 rows\n",
            "\n"
          ],
          "name": "stdout"
        }
      ]
    },
    {
      "cell_type": "code",
      "metadata": {
        "id": "OgTPZMijHw2I",
        "colab_type": "code",
        "colab": {
          "base_uri": "https://localhost:8080/",
          "height": 85
        },
        "outputId": "8768aa14-1b2f-44bb-dd70-e5e69060aa13"
      },
      "source": [
        "# Spark 模型評估指標\n",
        "from pyspark.ml.evaluation import MulticlassClassificationEvaluator\n",
        "df_eval = GBT_predict.select('prediction','Survived')\n",
        "eval_acc = MulticlassClassificationEvaluator(labelCol=\"Survived\", predictionCol=\"prediction\", metricName=\"accuracy\")\n",
        "eval_f1 = MulticlassClassificationEvaluator(labelCol=\"Survived\", predictionCol=\"prediction\", metricName=\"f1\")\n",
        "eval_pre = MulticlassClassificationEvaluator(labelCol=\"Survived\", predictionCol=\"prediction\", metricName=\"weightedPrecision\")\n",
        "eval_recall = MulticlassClassificationEvaluator(labelCol=\"Survived\", predictionCol=\"prediction\", metricName=\"weightedRecall\")\n",
        "\n",
        "print('pyspark accuracy: %.6f' %eval_acc.evaluate(df_eval))\n",
        "print('pyspark f1-score: %.6f' %eval_f1.evaluate(df_eval))\n",
        "print('pyspark precision: %.6f' %eval_pre.evaluate(df_eval))\n",
        "print('pyspark recall: %.6f' %eval_recall.evaluate(df_eval))"
      ],
      "execution_count": 43,
      "outputs": [
        {
          "output_type": "stream",
          "text": [
            "pyspark accuracy: 0.853801\n",
            "pyspark f1-score: 0.851606\n",
            "pyspark precision: 0.852577\n",
            "pyspark recall: 0.853801\n"
          ],
          "name": "stdout"
        }
      ]
    },
    {
      "cell_type": "code",
      "metadata": {
        "id": "S-dHd7iDIDa3",
        "colab_type": "code",
        "colab": {}
      },
      "source": [
        ""
      ],
      "execution_count": null,
      "outputs": []
    }
  ]
}