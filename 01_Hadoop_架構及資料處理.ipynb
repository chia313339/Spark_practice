{
  "nbformat": 4,
  "nbformat_minor": 0,
  "metadata": {
    "colab": {
      "name": "01 Hadoop 架構及資料處理.ipynb",
      "provenance": [],
      "toc_visible": true
    },
    "kernelspec": {
      "name": "python3",
      "display_name": "Python 3"
    }
  },
  "cells": [
    {
      "cell_type": "markdown",
      "metadata": {
        "id": "_Y5uKlTg53Dl",
        "colab_type": "text"
      },
      "source": [
        "# Spark 練習環境建立"
      ]
    },
    {
      "cell_type": "markdown",
      "metadata": {
        "id": "kOw4FgKD5_d1",
        "colab_type": "text"
      },
      "source": [
        "## 套件安裝及環境建置"
      ]
    },
    {
      "cell_type": "code",
      "metadata": {
        "id": "4IUUe90n55VT",
        "colab_type": "code",
        "colab": {
          "base_uri": "https://localhost:8080/",
          "height": 238
        },
        "outputId": "94bcdb1f-975f-4f2b-9e71-ea6530a3554c"
      },
      "source": [
        "# 安裝 pyspark\n",
        "!pip install pyspark"
      ],
      "execution_count": 1,
      "outputs": [
        {
          "output_type": "stream",
          "text": [
            "Collecting pyspark\n",
            "\u001b[?25l  Downloading https://files.pythonhosted.org/packages/8e/b0/bf9020b56492281b9c9d8aae8f44ff51e1bc91b3ef5a884385cb4e389a40/pyspark-3.0.0.tar.gz (204.7MB)\n",
            "\u001b[K     |████████████████████████████████| 204.7MB 64kB/s \n",
            "\u001b[?25hCollecting py4j==0.10.9\n",
            "\u001b[?25l  Downloading https://files.pythonhosted.org/packages/9e/b6/6a4fb90cd235dc8e265a6a2067f2a2c99f0d91787f06aca4bcf7c23f3f80/py4j-0.10.9-py2.py3-none-any.whl (198kB)\n",
            "\u001b[K     |████████████████████████████████| 204kB 43.9MB/s \n",
            "\u001b[?25hBuilding wheels for collected packages: pyspark\n",
            "  Building wheel for pyspark (setup.py) ... \u001b[?25l\u001b[?25hdone\n",
            "  Created wheel for pyspark: filename=pyspark-3.0.0-py2.py3-none-any.whl size=205044182 sha256=e0b326a7293e473f0cbd70efd676f16b8636424b77aceeffa6675f888f77ee0e\n",
            "  Stored in directory: /root/.cache/pip/wheels/57/27/4d/ddacf7143f8d5b76c45c61ee2e43d9f8492fc5a8e78ebd7d37\n",
            "Successfully built pyspark\n",
            "Installing collected packages: py4j, pyspark\n",
            "Successfully installed py4j-0.10.9 pyspark-3.0.0\n"
          ],
          "name": "stdout"
        }
      ]
    },
    {
      "cell_type": "code",
      "metadata": {
        "id": "TyC8H8gK55Xq",
        "colab_type": "code",
        "colab": {}
      },
      "source": [
        "# 啟動 spark 服務\n",
        "from pyspark.sql import SparkSession\n",
        "from pyspark import SparkContext\n",
        "spark = SparkSession.builder.master(\"local\").getOrCreate()\n",
        "sc = SparkContext.getOrCreate()"
      ],
      "execution_count": 2,
      "outputs": []
    },
    {
      "cell_type": "code",
      "metadata": {
        "id": "vzR3k13855Z2",
        "colab_type": "code",
        "colab": {
          "base_uri": "https://localhost:8080/",
          "height": 193
        },
        "outputId": "4612d19e-f2bd-4683-8820-8cb80ab0717b"
      },
      "source": [
        "# 確認 spark 環境\n",
        "sc"
      ],
      "execution_count": 3,
      "outputs": [
        {
          "output_type": "execute_result",
          "data": {
            "text/html": [
              "\n",
              "        <div>\n",
              "            <p><b>SparkContext</b></p>\n",
              "\n",
              "            <p><a href=\"http://f070ef1f84d2:4040\">Spark UI</a></p>\n",
              "\n",
              "            <dl>\n",
              "              <dt>Version</dt>\n",
              "                <dd><code>v3.0.0</code></dd>\n",
              "              <dt>Master</dt>\n",
              "                <dd><code>local</code></dd>\n",
              "              <dt>AppName</dt>\n",
              "                <dd><code>pyspark-shell</code></dd>\n",
              "            </dl>\n",
              "        </div>\n",
              "        "
            ],
            "text/plain": [
              "<SparkContext master=local appName=pyspark-shell>"
            ]
          },
          "metadata": {
            "tags": []
          },
          "execution_count": 3
        }
      ]
    },
    {
      "cell_type": "markdown",
      "metadata": {
        "id": "AJ5cU19u6XGj",
        "colab_type": "text"
      },
      "source": [
        "## 資料讀取"
      ]
    },
    {
      "cell_type": "code",
      "metadata": {
        "id": "Pf5OUfGu6T8A",
        "colab_type": "code",
        "colab": {}
      },
      "source": [
        "# 從外部抓CUST360的測試資料\n",
        "from pyspark import SparkFiles\n",
        "url = 'https://raw.githubusercontent.com/chia313339/Spark_practice/master/CUST_360.csv'\n",
        "spark.sparkContext.addFile(url)\n",
        "df = spark.read.csv(SparkFiles.get(\"CUST_360.csv\"), header=True, inferSchema= True)"
      ],
      "execution_count": 21,
      "outputs": []
    },
    {
      "cell_type": "code",
      "metadata": {
        "id": "EKJJXe_V6b2I",
        "colab_type": "code",
        "colab": {
          "base_uri": "https://localhost:8080/",
          "height": 34
        },
        "outputId": "9e8699e3-d925-48fc-babb-c787edd8a6cb"
      },
      "source": [
        "# 將資料集讀取在memory上，DataFrame跟SparkSQL都要下此語法，如果沒下，資料每次都會重新load\n",
        "df.cache()"
      ],
      "execution_count": 22,
      "outputs": [
        {
          "output_type": "execute_result",
          "data": {
            "text/plain": [
              "DataFrame[APC_ID_SAS: string, GENDER: string, AGE: int, CONTACT_CITY_CD: string, EDUCATION_CD: int, MARRIAGE_CD: int, STAFF_IND: int, LIFE_INSD_CNT: int, HEIGHT: int, WEIGHT: int]"
            ]
          },
          "metadata": {
            "tags": []
          },
          "execution_count": 22
        }
      ]
    },
    {
      "cell_type": "code",
      "metadata": {
        "id": "Jhi_utrV6eVx",
        "colab_type": "code",
        "colab": {
          "base_uri": "https://localhost:8080/",
          "height": 459
        },
        "outputId": "de1f2b13-913b-48a5-ed84-5a076e518641"
      },
      "source": [
        "# 執行這句才會真的運行Spark，將資料存在記憶體\n",
        "df.show()"
      ],
      "execution_count": 6,
      "outputs": [
        {
          "output_type": "stream",
          "text": [
            "+------------------+------+---+---------------+------------+-----------+---------+-------------+------+------+\n",
            "|        APC_ID_SAS|GENDER|AGE|CONTACT_CITY_CD|EDUCATION_CD|MARRIAGE_CD|STAFF_IND|LIFE_INSD_CNT|HEIGHT|WEIGHT|\n",
            "+------------------+------+---+---------------+------------+-----------+---------+-------------+------+------+\n",
            "|Q2D129E954AD477523|     F| 50|         台中市|           2|          1|        0|            4|   158|    54|\n",
            "|A2AFDA91C172B15A77|     F| 35|         高雄市|           3|          0|        0|            2|   162|    48|\n",
            "|F1D4EF7FFBE44A51FE|     M| 33|         新北市|           3|          0|        0|            2|   172|    70|\n",
            "|T117FCDED3FAE1C1F3|     M| 31|         屏東縣|           3|          0|        0|            3|   167|    58|\n",
            "|L26284A55F56B398BA|     F| 55|         高雄市|           3|          1|        0|            2|   161|    55|\n",
            "|E1F5DBF55F6B1427DD|     M| 60|         高雄市|           1|          0|        0|            1|   167|    72|\n",
            "|F20481473EEB92E8D8|     F| 37|         新北市|           3|          0|        0|            3|   160|    54|\n",
            "|H20BE9CA7E806E0551|     F| 71|         基隆市|           3|          1|        0|            2|   150|    47|\n",
            "|F1B81805D82921E3B9|     M| 27|         新北市|        null|       null|        0|            1|   182|    64|\n",
            "|N1ED4D2C4D60B78323|     M| 57|         彰化縣|           2|          1|        0|            8|   182|    76|\n",
            "|F12A8F9FE08045F1A6|     M| 42|         新北市|           3|          1|        0|            6|   174|    63|\n",
            "|S2FBC9D681C459E262|     F| 46|         高雄市|           1|          1|        0|            2|   160|    53|\n",
            "|T24571F44004FE8145|     F| 59|         屏東縣|           4|          1|        0|            2|   163|    58|\n",
            "|P2A8A6EE60E936FA24|     F| 53|         雲林縣|           2|          1|        0|            1|   153|    57|\n",
            "|J1E82E68A12B9D234D|     M| 54|         高雄市|           3|          1|        0|            2|   180|    80|\n",
            "|J1882AEE9E2183B202|     M| 56|         新竹縣|        null|          1|        0|            1|   173|    68|\n",
            "|Q221C6DF46F85DA0D3|     F| 59|         嘉義縣|           1|          1|        0|            5|   157|    58|\n",
            "|B29C7859D7C9244C3A|     F| 45|         新北市|        null|          1|        0|            2|   160|    52|\n",
            "|A2663738EDFF7839CA|     F| 37|         台北市|           2|          1|        0|            1|   166|    65|\n",
            "|R24A96ABFCF4742B5C|     F| 32|         台南市|           3|          0|        0|            3|   159|    62|\n",
            "+------------------+------+---+---------------+------------+-----------+---------+-------------+------+------+\n",
            "only showing top 20 rows\n",
            "\n"
          ],
          "name": "stdout"
        }
      ]
    },
    {
      "cell_type": "markdown",
      "metadata": {
        "id": "0otXM6-R6i2O",
        "colab_type": "text"
      },
      "source": [
        "# 資料篩選"
      ]
    },
    {
      "cell_type": "markdown",
      "metadata": {
        "id": "bAVggAnY7iDn",
        "colab_type": "text"
      },
      "source": [
        "## Spark Dataframe"
      ]
    },
    {
      "cell_type": "markdown",
      "metadata": {
        "id": "41_GYET67ng3",
        "colab_type": "text"
      },
      "source": [
        "- 篩選年齡大於25歲的客戶"
      ]
    },
    {
      "cell_type": "code",
      "metadata": {
        "id": "6yvXgy2J7sIt",
        "colab_type": "code",
        "colab": {
          "base_uri": "https://localhost:8080/",
          "height": 459
        },
        "outputId": "212caac6-2bc2-4073-f86a-a342c3de49d0"
      },
      "source": [
        "df.select('APC_ID_SAS','AGE').where(df.AGE > 25).show()"
      ],
      "execution_count": 14,
      "outputs": [
        {
          "output_type": "stream",
          "text": [
            "+------------------+---+\n",
            "|        APC_ID_SAS|AGE|\n",
            "+------------------+---+\n",
            "|Q2D129E954AD477523| 50|\n",
            "|A2AFDA91C172B15A77| 35|\n",
            "|F1D4EF7FFBE44A51FE| 33|\n",
            "|T117FCDED3FAE1C1F3| 31|\n",
            "|L26284A55F56B398BA| 55|\n",
            "|E1F5DBF55F6B1427DD| 60|\n",
            "|F20481473EEB92E8D8| 37|\n",
            "|H20BE9CA7E806E0551| 71|\n",
            "|F1B81805D82921E3B9| 27|\n",
            "|N1ED4D2C4D60B78323| 57|\n",
            "|F12A8F9FE08045F1A6| 42|\n",
            "|S2FBC9D681C459E262| 46|\n",
            "|T24571F44004FE8145| 59|\n",
            "|P2A8A6EE60E936FA24| 53|\n",
            "|J1E82E68A12B9D234D| 54|\n",
            "|J1882AEE9E2183B202| 56|\n",
            "|Q221C6DF46F85DA0D3| 59|\n",
            "|B29C7859D7C9244C3A| 45|\n",
            "|A2663738EDFF7839CA| 37|\n",
            "|R24A96ABFCF4742B5C| 32|\n",
            "+------------------+---+\n",
            "only showing top 20 rows\n",
            "\n"
          ],
          "name": "stdout"
        }
      ]
    },
    {
      "cell_type": "markdown",
      "metadata": {
        "id": "YgSn1ww_7njZ",
        "colab_type": "text"
      },
      "source": [
        "- 計算各學歷客戶數"
      ]
    },
    {
      "cell_type": "code",
      "metadata": {
        "id": "Hay8Qx5w7uS_",
        "colab_type": "code",
        "colab": {
          "base_uri": "https://localhost:8080/",
          "height": 187
        },
        "outputId": "c679c4b6-98ba-41ed-9012-23a56a872749"
      },
      "source": [
        "df.select('EDUCATION_CD').groupby(df.EDUCATION_CD).count().show()"
      ],
      "execution_count": 15,
      "outputs": [
        {
          "output_type": "stream",
          "text": [
            "+------------+-----+\n",
            "|EDUCATION_CD|count|\n",
            "+------------+-----+\n",
            "|        null|19138|\n",
            "|           1|22184|\n",
            "|           3|30428|\n",
            "|           4| 3967|\n",
            "|           2|24283|\n",
            "+------------+-----+\n",
            "\n"
          ],
          "name": "stdout"
        }
      ]
    },
    {
      "cell_type": "markdown",
      "metadata": {
        "id": "xlyT-mOG7nmA",
        "colab_type": "text"
      },
      "source": [
        "- 新增欄位以公尺為單位計算身高，並從高到低排序"
      ]
    },
    {
      "cell_type": "code",
      "metadata": {
        "id": "prrchEix7wAD",
        "colab_type": "code",
        "colab": {
          "base_uri": "https://localhost:8080/",
          "height": 459
        },
        "outputId": "8b115f52-0123-4122-8665-f96c0dcb9925"
      },
      "source": [
        "df.select('APC_ID_SAS','HEIGHT').withColumn('HEIGHT_M',df.HEIGHT/100).orderBy('HEIGHT_M',ascending=False).show()"
      ],
      "execution_count": 16,
      "outputs": [
        {
          "output_type": "stream",
          "text": [
            "+------------------+------+--------+\n",
            "|        APC_ID_SAS|HEIGHT|HEIGHT_M|\n",
            "+------------------+------+--------+\n",
            "|F1057CE5E949E6EFC1|   201|    2.01|\n",
            "|ACE8FCF8C6B46669D3|   198|    1.98|\n",
            "|H1B5DCDA759441F52C|   196|    1.96|\n",
            "|F13ACDDC993E9E53D9|   196|    1.96|\n",
            "|P1C1B81800B3987528|   196|    1.96|\n",
            "|C1E1615E25FC949658|   195|    1.95|\n",
            "|H1804B3E772A5FE82E|   195|    1.95|\n",
            "|R111E1AA083CCA93D9|   195|    1.95|\n",
            "|F1C81BFF76B64F7029|   195|    1.95|\n",
            "|F166C8AE8B99A075F0|   195|    1.95|\n",
            "|E12E48BB533DBC264E|   195|    1.95|\n",
            "|E17A0620F60388202F|   195|    1.95|\n",
            "|M1FB9517B8D97BEC30|   193|    1.93|\n",
            "|F1980A9D354E0DE785|   193|    1.93|\n",
            "|R157828AF5AE7D5593|   193|    1.93|\n",
            "|L1252D0A9147B3B57C|   193|    1.93|\n",
            "|E152DE2A6C1C9D7C52|   193|    1.93|\n",
            "|R195BE7E6A9A99F9BB|   193|    1.93|\n",
            "|A1F2427D4A6C93A26B|   193|    1.93|\n",
            "|B18167CA3279E1551B|   193|    1.93|\n",
            "+------------------+------+--------+\n",
            "only showing top 20 rows\n",
            "\n"
          ],
          "name": "stdout"
        }
      ]
    },
    {
      "cell_type": "markdown",
      "metadata": {
        "id": "eu6Ct_Cd6o7r",
        "colab_type": "text"
      },
      "source": [
        "## Spark SQL\n",
        "使用Spark SQL的起手式，要先 register temp table"
      ]
    },
    {
      "cell_type": "code",
      "metadata": {
        "id": "TUup8flW6eY2",
        "colab_type": "code",
        "colab": {}
      },
      "source": [
        "# register temp table\n",
        "df.registerTempTable('cust_360')"
      ],
      "execution_count": 7,
      "outputs": []
    },
    {
      "cell_type": "markdown",
      "metadata": {
        "id": "itLOlsoI69Qu",
        "colab_type": "text"
      },
      "source": [
        "- 篩選年齡大於25歲的客戶"
      ]
    },
    {
      "cell_type": "code",
      "metadata": {
        "id": "qjZeJSyk6ebG",
        "colab_type": "code",
        "colab": {
          "base_uri": "https://localhost:8080/",
          "height": 459
        },
        "outputId": "8ea3c50c-bc6e-43d1-9020-b13e43ef1379"
      },
      "source": [
        "spark.sql('select APC_ID_SAS, AGE from cust_360 where AGE > 25').show()"
      ],
      "execution_count": 11,
      "outputs": [
        {
          "output_type": "stream",
          "text": [
            "+------------------+---+\n",
            "|        APC_ID_SAS|AGE|\n",
            "+------------------+---+\n",
            "|Q2D129E954AD477523| 50|\n",
            "|A2AFDA91C172B15A77| 35|\n",
            "|F1D4EF7FFBE44A51FE| 33|\n",
            "|T117FCDED3FAE1C1F3| 31|\n",
            "|L26284A55F56B398BA| 55|\n",
            "|E1F5DBF55F6B1427DD| 60|\n",
            "|F20481473EEB92E8D8| 37|\n",
            "|H20BE9CA7E806E0551| 71|\n",
            "|F1B81805D82921E3B9| 27|\n",
            "|N1ED4D2C4D60B78323| 57|\n",
            "|F12A8F9FE08045F1A6| 42|\n",
            "|S2FBC9D681C459E262| 46|\n",
            "|T24571F44004FE8145| 59|\n",
            "|P2A8A6EE60E936FA24| 53|\n",
            "|J1E82E68A12B9D234D| 54|\n",
            "|J1882AEE9E2183B202| 56|\n",
            "|Q221C6DF46F85DA0D3| 59|\n",
            "|B29C7859D7C9244C3A| 45|\n",
            "|A2663738EDFF7839CA| 37|\n",
            "|R24A96ABFCF4742B5C| 32|\n",
            "+------------------+---+\n",
            "only showing top 20 rows\n",
            "\n"
          ],
          "name": "stdout"
        }
      ]
    },
    {
      "cell_type": "markdown",
      "metadata": {
        "id": "dYe2LHjJ7HDv",
        "colab_type": "text"
      },
      "source": [
        "- 計算各學歷客戶數"
      ]
    },
    {
      "cell_type": "code",
      "metadata": {
        "id": "vcl1rMMU6edc",
        "colab_type": "code",
        "colab": {
          "base_uri": "https://localhost:8080/",
          "height": 187
        },
        "outputId": "480cbbb7-3024-4bd9-eb4d-1978f0ab0d67"
      },
      "source": [
        "spark.sql('select EDUCATION_CD, count(1) from cust_360 group by EDUCATION_CD').show()"
      ],
      "execution_count": 12,
      "outputs": [
        {
          "output_type": "stream",
          "text": [
            "+------------+--------+\n",
            "|EDUCATION_CD|count(1)|\n",
            "+------------+--------+\n",
            "|        null|   19138|\n",
            "|           1|   22184|\n",
            "|           3|   30428|\n",
            "|           4|    3967|\n",
            "|           2|   24283|\n",
            "+------------+--------+\n",
            "\n"
          ],
          "name": "stdout"
        }
      ]
    },
    {
      "cell_type": "markdown",
      "metadata": {
        "id": "a6lmI_VR7ObI",
        "colab_type": "text"
      },
      "source": [
        "- 新增欄位以公尺為單位計算身高，並從高到低排序"
      ]
    },
    {
      "cell_type": "code",
      "metadata": {
        "id": "2xwmJXuv6efw",
        "colab_type": "code",
        "colab": {
          "base_uri": "https://localhost:8080/",
          "height": 459
        },
        "outputId": "8c73a7f3-362e-45af-d1e7-e2da439a4f50"
      },
      "source": [
        "spark.sql('select APC_ID_SAS, HEIGHT, HEIGHT/100 as HEIGHT_M from cust_360 order by HEIGHT_M desc').show()"
      ],
      "execution_count": 13,
      "outputs": [
        {
          "output_type": "stream",
          "text": [
            "+------------------+------+--------+\n",
            "|        APC_ID_SAS|HEIGHT|HEIGHT_M|\n",
            "+------------------+------+--------+\n",
            "|F1057CE5E949E6EFC1|   201|    2.01|\n",
            "|ACE8FCF8C6B46669D3|   198|    1.98|\n",
            "|H1B5DCDA759441F52C|   196|    1.96|\n",
            "|F13ACDDC993E9E53D9|   196|    1.96|\n",
            "|P1C1B81800B3987528|   196|    1.96|\n",
            "|C1E1615E25FC949658|   195|    1.95|\n",
            "|H1804B3E772A5FE82E|   195|    1.95|\n",
            "|R111E1AA083CCA93D9|   195|    1.95|\n",
            "|F1C81BFF76B64F7029|   195|    1.95|\n",
            "|F166C8AE8B99A075F0|   195|    1.95|\n",
            "|E12E48BB533DBC264E|   195|    1.95|\n",
            "|E17A0620F60388202F|   195|    1.95|\n",
            "|M1FB9517B8D97BEC30|   193|    1.93|\n",
            "|F1980A9D354E0DE785|   193|    1.93|\n",
            "|R157828AF5AE7D5593|   193|    1.93|\n",
            "|L1252D0A9147B3B57C|   193|    1.93|\n",
            "|E152DE2A6C1C9D7C52|   193|    1.93|\n",
            "|R195BE7E6A9A99F9BB|   193|    1.93|\n",
            "|A1F2427D4A6C93A26B|   193|    1.93|\n",
            "|B18167CA3279E1551B|   193|    1.93|\n",
            "+------------------+------+--------+\n",
            "only showing top 20 rows\n",
            "\n"
          ],
          "name": "stdout"
        }
      ]
    },
    {
      "cell_type": "markdown",
      "metadata": {
        "id": "QXQ6sdm070Xs",
        "colab_type": "text"
      },
      "source": [
        "# 清除記憶體暫存\n",
        "清除記憶體內的 cache()"
      ]
    },
    {
      "cell_type": "markdown",
      "metadata": {
        "id": "99Lk7p7A79ah",
        "colab_type": "text"
      },
      "source": [
        "## Dataframe"
      ]
    },
    {
      "cell_type": "markdown",
      "metadata": {
        "id": "XLtk1JFn8PGd",
        "colab_type": "text"
      },
      "source": [
        "### Load Data"
      ]
    },
    {
      "cell_type": "code",
      "metadata": {
        "id": "_5h4ne406eiK",
        "colab_type": "code",
        "colab": {}
      },
      "source": [
        "# 公司環境實際操作方法\n",
        "# df = spark.sql(\"select * from life_v_dm.cust_360\")"
      ],
      "execution_count": 17,
      "outputs": []
    },
    {
      "cell_type": "code",
      "metadata": {
        "id": "aHfCVmY56eki",
        "colab_type": "code",
        "colab": {}
      },
      "source": [
        "# Colab csv練習\n",
        "df = spark.read.csv(SparkFiles.get(\"CUST_360.csv\"), header=True, inferSchema= True)"
      ],
      "execution_count": 18,
      "outputs": []
    },
    {
      "cell_type": "markdown",
      "metadata": {
        "id": "UYwQeJ7L8Xgr",
        "colab_type": "text"
      },
      "source": [
        "### Delete cache"
      ]
    },
    {
      "cell_type": "code",
      "metadata": {
        "id": "fEnSDr-h8caG",
        "colab_type": "code",
        "colab": {}
      },
      "source": [
        "# 跟一般 pandas dataframe 一樣\n",
        "del df"
      ],
      "execution_count": 19,
      "outputs": []
    },
    {
      "cell_type": "markdown",
      "metadata": {
        "id": "986-Nupw8XjU",
        "colab_type": "text"
      },
      "source": [
        "## Spark SQL"
      ]
    },
    {
      "cell_type": "markdown",
      "metadata": {
        "id": "tbs6TqeK8n8T",
        "colab_type": "text"
      },
      "source": [
        "### Load Data"
      ]
    },
    {
      "cell_type": "code",
      "metadata": {
        "id": "mlSBk9aW81w4",
        "colab_type": "code",
        "colab": {}
      },
      "source": [
        "df.registerTempTable('cust_360')"
      ],
      "execution_count": 25,
      "outputs": []
    },
    {
      "cell_type": "markdown",
      "metadata": {
        "id": "zFD7EfNp8o0y",
        "colab_type": "text"
      },
      "source": [
        "### Delete cache"
      ]
    },
    {
      "cell_type": "code",
      "metadata": {
        "id": "dxz5fwdo88ci",
        "colab_type": "code",
        "colab": {}
      },
      "source": [
        "spark.catalog.dropTempView(\"cust_360\")"
      ],
      "execution_count": 24,
      "outputs": []
    },
    {
      "cell_type": "markdown",
      "metadata": {
        "id": "tRkXsXY49Al7",
        "colab_type": "text"
      },
      "source": [
        "# 資料篩選練習"
      ]
    },
    {
      "cell_type": "markdown",
      "metadata": {
        "id": "aA6hqHKw97lW",
        "colab_type": "text"
      },
      "source": [
        "## 第一題\n",
        "篩選客戶ID、身高、體重，並計算每個客戶 BMI 值，由小排到大顯示。"
      ]
    },
    {
      "cell_type": "code",
      "metadata": {
        "id": "_5X59Dbk9H3n",
        "colab_type": "code",
        "colab": {
          "base_uri": "https://localhost:8080/",
          "height": 459
        },
        "outputId": "43204396-4c7d-4618-fa8a-e79fe849e30f"
      },
      "source": [
        "# Dataframe 方法\n",
        "df.select('APC_ID_SAS','HEIGHT','WEIGHT').withColumn('BMI',df.WEIGHT/(df.HEIGHT/100)**2).orderBy('BMI',ascending=True).show()"
      ],
      "execution_count": 26,
      "outputs": [
        {
          "output_type": "stream",
          "text": [
            "+------------------+------+------+------------------+\n",
            "|        APC_ID_SAS|HEIGHT|WEIGHT|               BMI|\n",
            "+------------------+------+------+------------------+\n",
            "|E105DCAFC305033417|    49|     0|               0.0|\n",
            "|H29DC5A204152934EE|    43|     0|               0.0|\n",
            "|A126C93E33B4D4CB31|   172|     0|               0.0|\n",
            "|A15C24ACBA604E7241|    49|     0|               0.0|\n",
            "|Q19F6BBF162DFE9D3E|   151|     3|1.3157317661506074|\n",
            "|A236E76AECC53C9FDC|   130|     3|1.7751479289940826|\n",
            "|P210C79C71D3C77171|   155|     5|2.0811654526534857|\n",
            "|A268ED34D77A261522|   165|     6| 2.203856749311295|\n",
            "|P135C8C1E11AE16244|   172|     7|2.3661438615467825|\n",
            "|A1110745FF4F29418D|    55|     1| 3.305785123966942|\n",
            "|A1E7457FDC4C53B285|    53|     1|3.5599857600569593|\n",
            "|N11FE8FC93D938A2D9|    51|     1|3.8446751249519417|\n",
            "|H2E3A538DEC2F497A8|    50|     1|               4.0|\n",
            "|H2FDF7168B2AC5F914|    50|     1|               4.0|\n",
            "|E1033E78F40656C84A|    48|     1| 4.340277777777778|\n",
            "|F1083B205D44EC8DE3|    48|     1| 4.340277777777778|\n",
            "|A1ECCB57B3EBAFFE96|    47|     1| 4.526935264825713|\n",
            "|E24ED6669B9EC94CD1|    47|     1| 4.526935264825713|\n",
            "|Q2A12E52284107B5CB|   105|     5| 4.535147392290249|\n",
            "|J26B1BE57AA148FE8C|    80|     3| 4.687499999999999|\n",
            "+------------------+------+------+------------------+\n",
            "only showing top 20 rows\n",
            "\n"
          ],
          "name": "stdout"
        }
      ]
    },
    {
      "cell_type": "code",
      "metadata": {
        "id": "RBt2qiQm6enA",
        "colab_type": "code",
        "colab": {
          "base_uri": "https://localhost:8080/",
          "height": 459
        },
        "outputId": "b3b6ad9b-d11f-496c-dc70-c3679255d96e"
      },
      "source": [
        "# Spark SQL 方法\n",
        "spark.sql('select APC_ID_SAS, HEIGHT, WEIGHT, WEIGHT/sqrt(HEIGHT/100) as BMI from cust_360 order by BMI asc').show()"
      ],
      "execution_count": 27,
      "outputs": [
        {
          "output_type": "stream",
          "text": [
            "+------------------+------+------+------------------+\n",
            "|        APC_ID_SAS|HEIGHT|WEIGHT|               BMI|\n",
            "+------------------+------+------+------------------+\n",
            "|E105DCAFC305033417|    49|     0|               0.0|\n",
            "|H29DC5A204152934EE|    43|     0|               0.0|\n",
            "|A126C93E33B4D4CB31|   172|     0|               0.0|\n",
            "|A15C24ACBA604E7241|    49|     0|               0.0|\n",
            "|A1110745FF4F29418D|    55|     1| 1.348399724926484|\n",
            "|A1E7457FDC4C53B285|    53|     1|1.3736056394868903|\n",
            "|N11FE8FC93D938A2D9|    51|     1|1.4002800840280099|\n",
            "|H2FDF7168B2AC5F914|    50|     1| 1.414213562373095|\n",
            "|H2E3A538DEC2F497A8|    50|     1| 1.414213562373095|\n",
            "|E1033E78F40656C84A|    48|     1|1.4433756729740643|\n",
            "|F1083B205D44EC8DE3|    48|     1|1.4433756729740643|\n",
            "|E24ED6669B9EC94CD1|    47|     1|1.4586499149789456|\n",
            "|A1ECCB57B3EBAFFE96|    47|     1|1.4586499149789456|\n",
            "|S2FCC785A60EE77479|    44|     1|1.5075567228888183|\n",
            "|Q19F6BBF162DFE9D3E|   151|     3|2.4413653763134784|\n",
            "|A236E76AECC53C9FDC|   130|     3|2.6311740579210876|\n",
            "|J2260DE7F4BF665AA0|    57|     2|2.6490647141300876|\n",
            "|P2EEDBCB64F8559B50|    53|     2|2.7472112789737806|\n",
            "|K2B23B42CA97EA5D74|    52|     2|2.7735009811261455|\n",
            "|H2C482C6D7A4C03EAA|    51|     2|2.8005601680560197|\n",
            "+------------------+------+------+------------------+\n",
            "only showing top 20 rows\n",
            "\n"
          ],
          "name": "stdout"
        }
      ]
    },
    {
      "cell_type": "markdown",
      "metadata": {
        "id": "ywHEc1B-9_pg",
        "colab_type": "text"
      },
      "source": [
        "## 第二題\n",
        "根據上面的 BMI 欄位，新增欄位 BMI_L 顯示 BMI 等級，規則如下。<br>\n",
        "過輕：BMI<18.5 <br>\n",
        "正常：18.5<=BMI<24<br>\n",
        "過重：24<=BMI"
      ]
    },
    {
      "cell_type": "code",
      "metadata": {
        "id": "K_vZY69F6epp",
        "colab_type": "code",
        "colab": {
          "base_uri": "https://localhost:8080/",
          "height": 459
        },
        "outputId": "5ff1e278-dfec-4959-a7f4-e61b1ef1214d"
      },
      "source": [
        "# Spark SQL 方法\n",
        "# WAY 1\n",
        "spark.sql('select APC_ID_SAS, HEIGHT, WEIGHT, WEIGHT/sqrt(HEIGHT/100) as BMI, \\\n",
        "case when WEIGHT/sqrt(HEIGHT/100) < 18.5 then \"過輕\" \\\n",
        "when WEIGHT/sqrt(HEIGHT/100) < 24 then \"正常\" \\\n",
        "else \"過重\" end as BMI_L from cust_360').show()"
      ],
      "execution_count": 28,
      "outputs": [
        {
          "output_type": "stream",
          "text": [
            "+------------------+------+------+------------------+-----+\n",
            "|        APC_ID_SAS|HEIGHT|WEIGHT|               BMI|BMI_L|\n",
            "+------------------+------+------+------------------+-----+\n",
            "|Q2D129E954AD477523|   158|    54| 42.96009334548942| 過重|\n",
            "|A2AFDA91C172B15A77|   162|    48|37.712361663282536| 過重|\n",
            "|F1D4EF7FFBE44A51FE|   172|    70| 53.37449961641163| 過重|\n",
            "|T117FCDED3FAE1C1F3|   167|    58| 44.88174748697994| 過重|\n",
            "|L26284A55F56B398BA|   161|    55| 43.34607234315053| 過重|\n",
            "|E1F5DBF55F6B1427DD|   167|    72|55.715272742457856| 過重|\n",
            "|F20481473EEB92E8D8|   160|    54| 42.69074841227312| 過重|\n",
            "|H20BE9CA7E806E0551|   150|    47| 38.37533930360313| 過重|\n",
            "|F1B81805D82921E3B9|   182|    64|47.439956266310475| 過重|\n",
            "|N1ED4D2C4D60B78323|   182|    76| 56.33494806624368| 過重|\n",
            "|F12A8F9FE08045F1A6|   174|    63|47.760176745470915| 過重|\n",
            "|S2FBC9D681C459E262|   160|    53| 41.90017899723102| 過重|\n",
            "|T24571F44004FE8145|   163|    58| 45.42910609930153| 過重|\n",
            "|P2A8A6EE60E936FA24|   153|    57| 46.08176875690326| 過重|\n",
            "|J1E82E68A12B9D234D|   180|    80| 59.62847939999439| 過重|\n",
            "|J1882AEE9E2183B202|   173|    68| 51.69944264633998| 過重|\n",
            "|Q221C6DF46F85DA0D3|   157|    58| 46.28903929912209| 過重|\n",
            "|B29C7859D7C9244C3A|   160|    52| 41.10960958218893| 過重|\n",
            "|A2663738EDFF7839CA|   166|    65|50.449784170911634| 過重|\n",
            "|R24A96ABFCF4742B5C|   159|    62|49.169198314524934| 過重|\n",
            "+------------------+------+------+------------------+-----+\n",
            "only showing top 20 rows\n",
            "\n"
          ],
          "name": "stdout"
        }
      ]
    },
    {
      "cell_type": "code",
      "metadata": {
        "id": "QYbxMCd66er3",
        "colab_type": "code",
        "colab": {
          "base_uri": "https://localhost:8080/",
          "height": 459
        },
        "outputId": "2c0db2c4-23ae-4016-f897-a24a238020ff"
      },
      "source": [
        "# WAY 2 registerTempTable()\n",
        "spark.sql('select APC_ID_SAS, HEIGHT, WEIGHT, WEIGHT/sqrt(HEIGHT/100) as BMI from cust_360').registerTempTable('cust_360_tmp')\n",
        "\n",
        "spark.sql('select *, \\\n",
        "case when BMI < 18.5 then \"過輕\" \\\n",
        "when BMI < 24 then \"正常\" \\\n",
        "else \"過重\" end as BMI_L \\\n",
        "from cust_360_tmp').show()"
      ],
      "execution_count": 30,
      "outputs": [
        {
          "output_type": "stream",
          "text": [
            "+------------------+------+------+------------------+-----+\n",
            "|        APC_ID_SAS|HEIGHT|WEIGHT|               BMI|BMI_L|\n",
            "+------------------+------+------+------------------+-----+\n",
            "|Q2D129E954AD477523|   158|    54| 42.96009334548942| 過重|\n",
            "|A2AFDA91C172B15A77|   162|    48|37.712361663282536| 過重|\n",
            "|F1D4EF7FFBE44A51FE|   172|    70| 53.37449961641163| 過重|\n",
            "|T117FCDED3FAE1C1F3|   167|    58| 44.88174748697994| 過重|\n",
            "|L26284A55F56B398BA|   161|    55| 43.34607234315053| 過重|\n",
            "|E1F5DBF55F6B1427DD|   167|    72|55.715272742457856| 過重|\n",
            "|F20481473EEB92E8D8|   160|    54| 42.69074841227312| 過重|\n",
            "|H20BE9CA7E806E0551|   150|    47| 38.37533930360313| 過重|\n",
            "|F1B81805D82921E3B9|   182|    64|47.439956266310475| 過重|\n",
            "|N1ED4D2C4D60B78323|   182|    76| 56.33494806624368| 過重|\n",
            "|F12A8F9FE08045F1A6|   174|    63|47.760176745470915| 過重|\n",
            "|S2FBC9D681C459E262|   160|    53| 41.90017899723102| 過重|\n",
            "|T24571F44004FE8145|   163|    58| 45.42910609930153| 過重|\n",
            "|P2A8A6EE60E936FA24|   153|    57| 46.08176875690326| 過重|\n",
            "|J1E82E68A12B9D234D|   180|    80| 59.62847939999439| 過重|\n",
            "|J1882AEE9E2183B202|   173|    68| 51.69944264633998| 過重|\n",
            "|Q221C6DF46F85DA0D3|   157|    58| 46.28903929912209| 過重|\n",
            "|B29C7859D7C9244C3A|   160|    52| 41.10960958218893| 過重|\n",
            "|A2663738EDFF7839CA|   166|    65|50.449784170911634| 過重|\n",
            "|R24A96ABFCF4742B5C|   159|    62|49.169198314524934| 過重|\n",
            "+------------------+------+------+------------------+-----+\n",
            "only showing top 20 rows\n",
            "\n"
          ],
          "name": "stdout"
        }
      ]
    },
    {
      "cell_type": "code",
      "metadata": {
        "id": "FYl-pPld6eua",
        "colab_type": "code",
        "colab": {
          "base_uri": "https://localhost:8080/",
          "height": 459
        },
        "outputId": "a90ca614-1070-4eb4-c9d0-3fc60ae57ca2"
      },
      "source": [
        "# Dataframe 方法\n",
        "df_tmp = df.select('APC_ID_SAS','HEIGHT','WEIGHT').withColumn('BMI',df.WEIGHT/(df.HEIGHT/100)**2)\n",
        "\n",
        "# WAY 1 withColumn()\n",
        "from pyspark.sql.functions import when\n",
        "df_tmp.withColumn(\"BMI_L\",when(df_tmp.BMI < 18.5, '過輕').when(df_tmp.BMI < 24, '正常').otherwise('過重')).show()"
      ],
      "execution_count": 32,
      "outputs": [
        {
          "output_type": "stream",
          "text": [
            "+------------------+------+------+------------------+-----+\n",
            "|        APC_ID_SAS|HEIGHT|WEIGHT|               BMI|BMI_L|\n",
            "+------------------+------+------+------------------+-----+\n",
            "|Q2D129E954AD477523|   158|    54| 21.63114885435026| 正常|\n",
            "|A2AFDA91C172B15A77|   162|    48|18.289894833104707| 過輕|\n",
            "|F1D4EF7FFBE44A51FE|   172|    70|23.661438615467823| 正常|\n",
            "|T117FCDED3FAE1C1F3|   167|    58|20.796729893506402| 正常|\n",
            "|L26284A55F56B398BA|   161|    55|21.218317194552675| 正常|\n",
            "|E1F5DBF55F6B1427DD|   167|    72|25.816630212628635| 過重|\n",
            "|F20481473EEB92E8D8|   160|    54|21.093749999999996| 正常|\n",
            "|H20BE9CA7E806E0551|   150|    47| 20.88888888888889| 正常|\n",
            "|F1B81805D82921E3B9|   182|    64| 19.32133800265668| 正常|\n",
            "|N1ED4D2C4D60B78323|   182|    76|22.944088878154812| 正常|\n",
            "|F12A8F9FE08045F1A6|   174|    63|20.808561236623067| 正常|\n",
            "|S2FBC9D681C459E262|   160|    53|20.703124999999996| 正常|\n",
            "|T24571F44004FE8145|   163|    58|21.829952199932254| 正常|\n",
            "|P2A8A6EE60E936FA24|   153|    57| 24.34960912469563| 過重|\n",
            "|J1E82E68A12B9D234D|   180|    80|24.691358024691358| 過重|\n",
            "|J1882AEE9E2183B202|   173|    68|22.720438370810918| 正常|\n",
            "|Q221C6DF46F85DA0D3|   157|    58| 23.53036634346221| 正常|\n",
            "|B29C7859D7C9244C3A|   160|    52|20.312499999999996| 正常|\n",
            "|A2663738EDFF7839CA|   166|    65|23.588329220496444| 正常|\n",
            "|R24A96ABFCF4742B5C|   159|    62|24.524346347059055| 過重|\n",
            "+------------------+------+------+------------------+-----+\n",
            "only showing top 20 rows\n",
            "\n"
          ],
          "name": "stdout"
        }
      ]
    },
    {
      "cell_type": "code",
      "metadata": {
        "id": "qdzIzVcD-UPv",
        "colab_type": "code",
        "colab": {
          "base_uri": "https://localhost:8080/",
          "height": 459
        },
        "outputId": "dd453da4-9bf8-4590-e9de-426e9c66c1cf"
      },
      "source": [
        "# WAY 2 select()\n",
        "from pyspark.sql.functions import when\n",
        "df_tmp.select('*',when(df_tmp.BMI < 18.5, '過輕').when(df_tmp.BMI < 24, '正常').otherwise('過重').alias('BMI_L')).show()"
      ],
      "execution_count": 33,
      "outputs": [
        {
          "output_type": "stream",
          "text": [
            "+------------------+------+------+------------------+-----+\n",
            "|        APC_ID_SAS|HEIGHT|WEIGHT|               BMI|BMI_L|\n",
            "+------------------+------+------+------------------+-----+\n",
            "|Q2D129E954AD477523|   158|    54| 21.63114885435026| 正常|\n",
            "|A2AFDA91C172B15A77|   162|    48|18.289894833104707| 過輕|\n",
            "|F1D4EF7FFBE44A51FE|   172|    70|23.661438615467823| 正常|\n",
            "|T117FCDED3FAE1C1F3|   167|    58|20.796729893506402| 正常|\n",
            "|L26284A55F56B398BA|   161|    55|21.218317194552675| 正常|\n",
            "|E1F5DBF55F6B1427DD|   167|    72|25.816630212628635| 過重|\n",
            "|F20481473EEB92E8D8|   160|    54|21.093749999999996| 正常|\n",
            "|H20BE9CA7E806E0551|   150|    47| 20.88888888888889| 正常|\n",
            "|F1B81805D82921E3B9|   182|    64| 19.32133800265668| 正常|\n",
            "|N1ED4D2C4D60B78323|   182|    76|22.944088878154812| 正常|\n",
            "|F12A8F9FE08045F1A6|   174|    63|20.808561236623067| 正常|\n",
            "|S2FBC9D681C459E262|   160|    53|20.703124999999996| 正常|\n",
            "|T24571F44004FE8145|   163|    58|21.829952199932254| 正常|\n",
            "|P2A8A6EE60E936FA24|   153|    57| 24.34960912469563| 過重|\n",
            "|J1E82E68A12B9D234D|   180|    80|24.691358024691358| 過重|\n",
            "|J1882AEE9E2183B202|   173|    68|22.720438370810918| 正常|\n",
            "|Q221C6DF46F85DA0D3|   157|    58| 23.53036634346221| 正常|\n",
            "|B29C7859D7C9244C3A|   160|    52|20.312499999999996| 正常|\n",
            "|A2663738EDFF7839CA|   166|    65|23.588329220496444| 正常|\n",
            "|R24A96ABFCF4742B5C|   159|    62|24.524346347059055| 過重|\n",
            "+------------------+------+------+------------------+-----+\n",
            "only showing top 20 rows\n",
            "\n"
          ],
          "name": "stdout"
        }
      ]
    },
    {
      "cell_type": "code",
      "metadata": {
        "id": "0w9qnwV4-USJ",
        "colab_type": "code",
        "colab": {
          "base_uri": "https://localhost:8080/",
          "height": 459
        },
        "outputId": "4d87cd12-8692-4561-ca87-fc3a87f51cab"
      },
      "source": [
        "# WAY 3 selectExpr()\n",
        "df_tmp.selectExpr('*','case when BMI < 18.5 then \"過輕\" when BMI < 24 then \"正常\" else \"過重\" end as BMI_L').show()"
      ],
      "execution_count": 34,
      "outputs": [
        {
          "output_type": "stream",
          "text": [
            "+------------------+------+------+------------------+-----+\n",
            "|        APC_ID_SAS|HEIGHT|WEIGHT|               BMI|BMI_L|\n",
            "+------------------+------+------+------------------+-----+\n",
            "|Q2D129E954AD477523|   158|    54| 21.63114885435026| 正常|\n",
            "|A2AFDA91C172B15A77|   162|    48|18.289894833104707| 過輕|\n",
            "|F1D4EF7FFBE44A51FE|   172|    70|23.661438615467823| 正常|\n",
            "|T117FCDED3FAE1C1F3|   167|    58|20.796729893506402| 正常|\n",
            "|L26284A55F56B398BA|   161|    55|21.218317194552675| 正常|\n",
            "|E1F5DBF55F6B1427DD|   167|    72|25.816630212628635| 過重|\n",
            "|F20481473EEB92E8D8|   160|    54|21.093749999999996| 正常|\n",
            "|H20BE9CA7E806E0551|   150|    47| 20.88888888888889| 正常|\n",
            "|F1B81805D82921E3B9|   182|    64| 19.32133800265668| 正常|\n",
            "|N1ED4D2C4D60B78323|   182|    76|22.944088878154812| 正常|\n",
            "|F12A8F9FE08045F1A6|   174|    63|20.808561236623067| 正常|\n",
            "|S2FBC9D681C459E262|   160|    53|20.703124999999996| 正常|\n",
            "|T24571F44004FE8145|   163|    58|21.829952199932254| 正常|\n",
            "|P2A8A6EE60E936FA24|   153|    57| 24.34960912469563| 過重|\n",
            "|J1E82E68A12B9D234D|   180|    80|24.691358024691358| 過重|\n",
            "|J1882AEE9E2183B202|   173|    68|22.720438370810918| 正常|\n",
            "|Q221C6DF46F85DA0D3|   157|    58| 23.53036634346221| 正常|\n",
            "|B29C7859D7C9244C3A|   160|    52|20.312499999999996| 正常|\n",
            "|A2663738EDFF7839CA|   166|    65|23.588329220496444| 正常|\n",
            "|R24A96ABFCF4742B5C|   159|    62|24.524346347059055| 過重|\n",
            "+------------------+------+------+------------------+-----+\n",
            "only showing top 20 rows\n",
            "\n"
          ],
          "name": "stdout"
        }
      ]
    },
    {
      "cell_type": "code",
      "metadata": {
        "id": "Bs1HbTzx-UUY",
        "colab_type": "code",
        "colab": {
          "base_uri": "https://localhost:8080/",
          "height": 459
        },
        "outputId": "3ebae981-bae2-40cd-90bc-30b7df65aab2"
      },
      "source": [
        "# WAY 4 select() with expr function\n",
        "from pyspark.sql.functions import expr\n",
        "df_tmp.select('*',expr('case when BMI < 18.5 then \"過輕\" when BMI < 24 then \"正常\" else \"過重\" end as BMI_L')).show()"
      ],
      "execution_count": 35,
      "outputs": [
        {
          "output_type": "stream",
          "text": [
            "+------------------+------+------+------------------+-----+\n",
            "|        APC_ID_SAS|HEIGHT|WEIGHT|               BMI|BMI_L|\n",
            "+------------------+------+------+------------------+-----+\n",
            "|Q2D129E954AD477523|   158|    54| 21.63114885435026| 正常|\n",
            "|A2AFDA91C172B15A77|   162|    48|18.289894833104707| 過輕|\n",
            "|F1D4EF7FFBE44A51FE|   172|    70|23.661438615467823| 正常|\n",
            "|T117FCDED3FAE1C1F3|   167|    58|20.796729893506402| 正常|\n",
            "|L26284A55F56B398BA|   161|    55|21.218317194552675| 正常|\n",
            "|E1F5DBF55F6B1427DD|   167|    72|25.816630212628635| 過重|\n",
            "|F20481473EEB92E8D8|   160|    54|21.093749999999996| 正常|\n",
            "|H20BE9CA7E806E0551|   150|    47| 20.88888888888889| 正常|\n",
            "|F1B81805D82921E3B9|   182|    64| 19.32133800265668| 正常|\n",
            "|N1ED4D2C4D60B78323|   182|    76|22.944088878154812| 正常|\n",
            "|F12A8F9FE08045F1A6|   174|    63|20.808561236623067| 正常|\n",
            "|S2FBC9D681C459E262|   160|    53|20.703124999999996| 正常|\n",
            "|T24571F44004FE8145|   163|    58|21.829952199932254| 正常|\n",
            "|P2A8A6EE60E936FA24|   153|    57| 24.34960912469563| 過重|\n",
            "|J1E82E68A12B9D234D|   180|    80|24.691358024691358| 過重|\n",
            "|J1882AEE9E2183B202|   173|    68|22.720438370810918| 正常|\n",
            "|Q221C6DF46F85DA0D3|   157|    58| 23.53036634346221| 正常|\n",
            "|B29C7859D7C9244C3A|   160|    52|20.312499999999996| 正常|\n",
            "|A2663738EDFF7839CA|   166|    65|23.588329220496444| 正常|\n",
            "|R24A96ABFCF4742B5C|   159|    62|24.524346347059055| 過重|\n",
            "+------------------+------+------+------------------+-----+\n",
            "only showing top 20 rows\n",
            "\n"
          ],
          "name": "stdout"
        }
      ]
    },
    {
      "cell_type": "code",
      "metadata": {
        "id": "Y-StwWpw-UWk",
        "colab_type": "code",
        "colab": {
          "base_uri": "https://localhost:8080/",
          "height": 459
        },
        "outputId": "63f113e1-2791-4d08-f900-de12c4f90d3f"
      },
      "source": [
        "# WAY 5 withColumn() with expr function\n",
        "from pyspark.sql.functions import expr\n",
        "df_tmp.withColumn(\"BMI_L\",expr('case when BMI < 18.5 then \"過輕\" when BMI < 24 then \"正常\" else \"過重\" end as BMI_L')).show()"
      ],
      "execution_count": 36,
      "outputs": [
        {
          "output_type": "stream",
          "text": [
            "+------------------+------+------+------------------+-----+\n",
            "|        APC_ID_SAS|HEIGHT|WEIGHT|               BMI|BMI_L|\n",
            "+------------------+------+------+------------------+-----+\n",
            "|Q2D129E954AD477523|   158|    54| 21.63114885435026| 正常|\n",
            "|A2AFDA91C172B15A77|   162|    48|18.289894833104707| 過輕|\n",
            "|F1D4EF7FFBE44A51FE|   172|    70|23.661438615467823| 正常|\n",
            "|T117FCDED3FAE1C1F3|   167|    58|20.796729893506402| 正常|\n",
            "|L26284A55F56B398BA|   161|    55|21.218317194552675| 正常|\n",
            "|E1F5DBF55F6B1427DD|   167|    72|25.816630212628635| 過重|\n",
            "|F20481473EEB92E8D8|   160|    54|21.093749999999996| 正常|\n",
            "|H20BE9CA7E806E0551|   150|    47| 20.88888888888889| 正常|\n",
            "|F1B81805D82921E3B9|   182|    64| 19.32133800265668| 正常|\n",
            "|N1ED4D2C4D60B78323|   182|    76|22.944088878154812| 正常|\n",
            "|F12A8F9FE08045F1A6|   174|    63|20.808561236623067| 正常|\n",
            "|S2FBC9D681C459E262|   160|    53|20.703124999999996| 正常|\n",
            "|T24571F44004FE8145|   163|    58|21.829952199932254| 正常|\n",
            "|P2A8A6EE60E936FA24|   153|    57| 24.34960912469563| 過重|\n",
            "|J1E82E68A12B9D234D|   180|    80|24.691358024691358| 過重|\n",
            "|J1882AEE9E2183B202|   173|    68|22.720438370810918| 正常|\n",
            "|Q221C6DF46F85DA0D3|   157|    58| 23.53036634346221| 正常|\n",
            "|B29C7859D7C9244C3A|   160|    52|20.312499999999996| 正常|\n",
            "|A2663738EDFF7839CA|   166|    65|23.588329220496444| 正常|\n",
            "|R24A96ABFCF4742B5C|   159|    62|24.524346347059055| 過重|\n",
            "+------------------+------+------+------------------+-----+\n",
            "only showing top 20 rows\n",
            "\n"
          ],
          "name": "stdout"
        }
      ]
    },
    {
      "cell_type": "markdown",
      "metadata": {
        "id": "U--O0ZJa-1fc",
        "colab_type": "text"
      },
      "source": [
        "# Spark 與 Pandas 轉換"
      ]
    },
    {
      "cell_type": "markdown",
      "metadata": {
        "id": "Zjuzbdna-6wP",
        "colab_type": "text"
      },
      "source": [
        "## 轉成 Pandas Dataframe"
      ]
    },
    {
      "cell_type": "code",
      "metadata": {
        "id": "246emxAV_EUJ",
        "colab_type": "code",
        "colab": {
          "base_uri": "https://localhost:8080/",
          "height": 204
        },
        "outputId": "b5beb5b3-1f10-4ca3-b768-885636b0d5d5"
      },
      "source": [
        "import pandas as pd\n",
        "df_pd = df.toPandas()\n",
        "df_pd.head()"
      ],
      "execution_count": 37,
      "outputs": [
        {
          "output_type": "execute_result",
          "data": {
            "text/html": [
              "<div>\n",
              "<style scoped>\n",
              "    .dataframe tbody tr th:only-of-type {\n",
              "        vertical-align: middle;\n",
              "    }\n",
              "\n",
              "    .dataframe tbody tr th {\n",
              "        vertical-align: top;\n",
              "    }\n",
              "\n",
              "    .dataframe thead th {\n",
              "        text-align: right;\n",
              "    }\n",
              "</style>\n",
              "<table border=\"1\" class=\"dataframe\">\n",
              "  <thead>\n",
              "    <tr style=\"text-align: right;\">\n",
              "      <th></th>\n",
              "      <th>APC_ID_SAS</th>\n",
              "      <th>GENDER</th>\n",
              "      <th>AGE</th>\n",
              "      <th>CONTACT_CITY_CD</th>\n",
              "      <th>EDUCATION_CD</th>\n",
              "      <th>MARRIAGE_CD</th>\n",
              "      <th>STAFF_IND</th>\n",
              "      <th>LIFE_INSD_CNT</th>\n",
              "      <th>HEIGHT</th>\n",
              "      <th>WEIGHT</th>\n",
              "    </tr>\n",
              "  </thead>\n",
              "  <tbody>\n",
              "    <tr>\n",
              "      <th>0</th>\n",
              "      <td>Q2D129E954AD477523</td>\n",
              "      <td>F</td>\n",
              "      <td>50.0</td>\n",
              "      <td>台中市</td>\n",
              "      <td>2.0</td>\n",
              "      <td>1.0</td>\n",
              "      <td>0</td>\n",
              "      <td>4</td>\n",
              "      <td>158</td>\n",
              "      <td>54</td>\n",
              "    </tr>\n",
              "    <tr>\n",
              "      <th>1</th>\n",
              "      <td>A2AFDA91C172B15A77</td>\n",
              "      <td>F</td>\n",
              "      <td>35.0</td>\n",
              "      <td>高雄市</td>\n",
              "      <td>3.0</td>\n",
              "      <td>0.0</td>\n",
              "      <td>0</td>\n",
              "      <td>2</td>\n",
              "      <td>162</td>\n",
              "      <td>48</td>\n",
              "    </tr>\n",
              "    <tr>\n",
              "      <th>2</th>\n",
              "      <td>F1D4EF7FFBE44A51FE</td>\n",
              "      <td>M</td>\n",
              "      <td>33.0</td>\n",
              "      <td>新北市</td>\n",
              "      <td>3.0</td>\n",
              "      <td>0.0</td>\n",
              "      <td>0</td>\n",
              "      <td>2</td>\n",
              "      <td>172</td>\n",
              "      <td>70</td>\n",
              "    </tr>\n",
              "    <tr>\n",
              "      <th>3</th>\n",
              "      <td>T117FCDED3FAE1C1F3</td>\n",
              "      <td>M</td>\n",
              "      <td>31.0</td>\n",
              "      <td>屏東縣</td>\n",
              "      <td>3.0</td>\n",
              "      <td>0.0</td>\n",
              "      <td>0</td>\n",
              "      <td>3</td>\n",
              "      <td>167</td>\n",
              "      <td>58</td>\n",
              "    </tr>\n",
              "    <tr>\n",
              "      <th>4</th>\n",
              "      <td>L26284A55F56B398BA</td>\n",
              "      <td>F</td>\n",
              "      <td>55.0</td>\n",
              "      <td>高雄市</td>\n",
              "      <td>3.0</td>\n",
              "      <td>1.0</td>\n",
              "      <td>0</td>\n",
              "      <td>2</td>\n",
              "      <td>161</td>\n",
              "      <td>55</td>\n",
              "    </tr>\n",
              "  </tbody>\n",
              "</table>\n",
              "</div>"
            ],
            "text/plain": [
              "           APC_ID_SAS GENDER   AGE  ... LIFE_INSD_CNT  HEIGHT  WEIGHT\n",
              "0  Q2D129E954AD477523      F  50.0  ...             4     158      54\n",
              "1  A2AFDA91C172B15A77      F  35.0  ...             2     162      48\n",
              "2  F1D4EF7FFBE44A51FE      M  33.0  ...             2     172      70\n",
              "3  T117FCDED3FAE1C1F3      M  31.0  ...             3     167      58\n",
              "4  L26284A55F56B398BA      F  55.0  ...             2     161      55\n",
              "\n",
              "[5 rows x 10 columns]"
            ]
          },
          "metadata": {
            "tags": []
          },
          "execution_count": 37
        }
      ]
    },
    {
      "cell_type": "markdown",
      "metadata": {
        "id": "m1qoUwrl_DMe",
        "colab_type": "text"
      },
      "source": [
        "## 轉成 Spark Dataframe"
      ]
    },
    {
      "cell_type": "code",
      "metadata": {
        "id": "oNqATkc5-Ua5",
        "colab_type": "code",
        "colab": {
          "base_uri": "https://localhost:8080/",
          "height": 204
        },
        "outputId": "ec9af77d-d3ff-4ea3-af85-e24284e11dee"
      },
      "source": [
        "df_sd = spark.createDataFrame(df_pd)\n",
        "df_sd.show(5)"
      ],
      "execution_count": 38,
      "outputs": [
        {
          "output_type": "stream",
          "text": [
            "+------------------+------+----+---------------+------------+-----------+---------+-------------+------+------+\n",
            "|        APC_ID_SAS|GENDER| AGE|CONTACT_CITY_CD|EDUCATION_CD|MARRIAGE_CD|STAFF_IND|LIFE_INSD_CNT|HEIGHT|WEIGHT|\n",
            "+------------------+------+----+---------------+------------+-----------+---------+-------------+------+------+\n",
            "|Q2D129E954AD477523|     F|50.0|         台中市|         2.0|        1.0|        0|            4|   158|    54|\n",
            "|A2AFDA91C172B15A77|     F|35.0|         高雄市|         3.0|        0.0|        0|            2|   162|    48|\n",
            "|F1D4EF7FFBE44A51FE|     M|33.0|         新北市|         3.0|        0.0|        0|            2|   172|    70|\n",
            "|T117FCDED3FAE1C1F3|     M|31.0|         屏東縣|         3.0|        0.0|        0|            3|   167|    58|\n",
            "|L26284A55F56B398BA|     F|55.0|         高雄市|         3.0|        1.0|        0|            2|   161|    55|\n",
            "+------------------+------+----+---------------+------------+-----------+---------+-------------+------+------+\n",
            "only showing top 5 rows\n",
            "\n"
          ],
          "name": "stdout"
        }
      ]
    },
    {
      "cell_type": "markdown",
      "metadata": {
        "id": "hxaK7r51_N31",
        "colab_type": "text"
      },
      "source": [
        "# 資料表操作"
      ]
    },
    {
      "cell_type": "markdown",
      "metadata": {
        "id": "V61IKyQ5_S_w",
        "colab_type": "text"
      },
      "source": [
        "## 基本訊息"
      ]
    },
    {
      "cell_type": "code",
      "metadata": {
        "id": "0Ff46kgy_HXt",
        "colab_type": "code",
        "colab": {
          "base_uri": "https://localhost:8080/",
          "height": 221
        },
        "outputId": "a41bab9d-6a05-476c-887a-4131eb6842a2"
      },
      "source": [
        "# 檢視基本訊息\n",
        "df.printSchema()"
      ],
      "execution_count": 39,
      "outputs": [
        {
          "output_type": "stream",
          "text": [
            "root\n",
            " |-- APC_ID_SAS: string (nullable = true)\n",
            " |-- GENDER: string (nullable = true)\n",
            " |-- AGE: integer (nullable = true)\n",
            " |-- CONTACT_CITY_CD: string (nullable = true)\n",
            " |-- EDUCATION_CD: integer (nullable = true)\n",
            " |-- MARRIAGE_CD: integer (nullable = true)\n",
            " |-- STAFF_IND: integer (nullable = true)\n",
            " |-- LIFE_INSD_CNT: integer (nullable = true)\n",
            " |-- HEIGHT: integer (nullable = true)\n",
            " |-- WEIGHT: integer (nullable = true)\n",
            "\n"
          ],
          "name": "stdout"
        }
      ]
    },
    {
      "cell_type": "code",
      "metadata": {
        "id": "gwfiygfU_Z3O",
        "colab_type": "code",
        "colab": {
          "base_uri": "https://localhost:8080/",
          "height": 187
        },
        "outputId": "9dc90559-e331-40bb-da19-cb096638479f"
      },
      "source": [
        "# 欄位清單\n",
        "df.columns"
      ],
      "execution_count": 41,
      "outputs": [
        {
          "output_type": "execute_result",
          "data": {
            "text/plain": [
              "['APC_ID_SAS',\n",
              " 'GENDER',\n",
              " 'AGE',\n",
              " 'CONTACT_CITY_CD',\n",
              " 'EDUCATION_CD',\n",
              " 'MARRIAGE_CD',\n",
              " 'STAFF_IND',\n",
              " 'LIFE_INSD_CNT',\n",
              " 'HEIGHT',\n",
              " 'WEIGHT']"
            ]
          },
          "metadata": {
            "tags": []
          },
          "execution_count": 41
        }
      ]
    },
    {
      "cell_type": "code",
      "metadata": {
        "id": "h3kS7lEO_gHX",
        "colab_type": "code",
        "colab": {
          "base_uri": "https://localhost:8080/",
          "height": 34
        },
        "outputId": "5b479c68-1d26-4d19-a1d5-040f4db0727c"
      },
      "source": [
        "# 查看資料維度\n",
        "print(df.count(), len(df.columns))"
      ],
      "execution_count": 42,
      "outputs": [
        {
          "output_type": "stream",
          "text": [
            "100000 10\n"
          ],
          "name": "stdout"
        }
      ]
    },
    {
      "cell_type": "code",
      "metadata": {
        "id": "8VFQIR02_Yj2",
        "colab_type": "code",
        "colab": {
          "base_uri": "https://localhost:8080/",
          "height": 187
        },
        "outputId": "9354bd32-69a3-47f9-e242-f7f9eb007282"
      },
      "source": [
        "# 各欄位基本訊息\n",
        "df.describe().show()"
      ],
      "execution_count": 40,
      "outputs": [
        {
          "output_type": "stream",
          "text": [
            "+-------+------------------+------+------------------+---------------+------------------+------------------+-------------------+-----------------+-----------------+-----------------+\n",
            "|summary|        APC_ID_SAS|GENDER|               AGE|CONTACT_CITY_CD|      EDUCATION_CD|       MARRIAGE_CD|          STAFF_IND|    LIFE_INSD_CNT|           HEIGHT|           WEIGHT|\n",
            "+-------+------------------+------+------------------+---------------+------------------+------------------+-------------------+-----------------+-----------------+-----------------+\n",
            "|  count|            100000| 99571|             99971|          99885|             80862|             99086|             100000|           100000|           100000|           100000|\n",
            "|   mean|              null|  null|37.788008522471515|           null|2.2000692537904083|0.4749409603778536|            0.06458|          3.29753|        153.37791|         54.49487|\n",
            "| stddev|              null|  null|18.661418949622714|           null| 0.898252300077991|0.5368330466579324|0.35052910336592774|3.032440907269028|29.38724910800615|19.80406109088385|\n",
            "|    min|057DEB2BD27B30E75C|     F|                 0|         南投縣|                 1|                 0|                  0|                1|                5|                0|\n",
            "|    max|Z2F1778CD4D4E88C29|     M|               120|         高雄市|                 4|                 2|                  3|               82|              201|              175|\n",
            "+-------+------------------+------+------------------+---------------+------------------+------------------+-------------------+-----------------+-----------------+-----------------+\n",
            "\n"
          ],
          "name": "stdout"
        }
      ]
    },
    {
      "cell_type": "markdown",
      "metadata": {
        "id": "5uIsJnPQ_kS0",
        "colab_type": "text"
      },
      "source": [
        "## 新增欄位"
      ]
    },
    {
      "cell_type": "code",
      "metadata": {
        "id": "jthPp6f3_gJm",
        "colab_type": "code",
        "colab": {
          "base_uri": "https://localhost:8080/",
          "height": 680
        },
        "outputId": "fce354a5-6fbc-4430-f5fb-c70a7444894b"
      },
      "source": [
        "from pyspark.sql import functions as F\n",
        "# 加一欄都是 0 的 LABEL\n",
        "df.withColumn(\"LABEL\",F.lit(0)).show()\n",
        "df.withColumn(\"LABEL\",F.lit(0)).printSchema()"
      ],
      "execution_count": 43,
      "outputs": [
        {
          "output_type": "stream",
          "text": [
            "+------------------+------+---+---------------+------------+-----------+---------+-------------+------+------+-----+\n",
            "|        APC_ID_SAS|GENDER|AGE|CONTACT_CITY_CD|EDUCATION_CD|MARRIAGE_CD|STAFF_IND|LIFE_INSD_CNT|HEIGHT|WEIGHT|LABEL|\n",
            "+------------------+------+---+---------------+------------+-----------+---------+-------------+------+------+-----+\n",
            "|Q2D129E954AD477523|     F| 50|         台中市|           2|          1|        0|            4|   158|    54|    0|\n",
            "|A2AFDA91C172B15A77|     F| 35|         高雄市|           3|          0|        0|            2|   162|    48|    0|\n",
            "|F1D4EF7FFBE44A51FE|     M| 33|         新北市|           3|          0|        0|            2|   172|    70|    0|\n",
            "|T117FCDED3FAE1C1F3|     M| 31|         屏東縣|           3|          0|        0|            3|   167|    58|    0|\n",
            "|L26284A55F56B398BA|     F| 55|         高雄市|           3|          1|        0|            2|   161|    55|    0|\n",
            "|E1F5DBF55F6B1427DD|     M| 60|         高雄市|           1|          0|        0|            1|   167|    72|    0|\n",
            "|F20481473EEB92E8D8|     F| 37|         新北市|           3|          0|        0|            3|   160|    54|    0|\n",
            "|H20BE9CA7E806E0551|     F| 71|         基隆市|           3|          1|        0|            2|   150|    47|    0|\n",
            "|F1B81805D82921E3B9|     M| 27|         新北市|        null|       null|        0|            1|   182|    64|    0|\n",
            "|N1ED4D2C4D60B78323|     M| 57|         彰化縣|           2|          1|        0|            8|   182|    76|    0|\n",
            "|F12A8F9FE08045F1A6|     M| 42|         新北市|           3|          1|        0|            6|   174|    63|    0|\n",
            "|S2FBC9D681C459E262|     F| 46|         高雄市|           1|          1|        0|            2|   160|    53|    0|\n",
            "|T24571F44004FE8145|     F| 59|         屏東縣|           4|          1|        0|            2|   163|    58|    0|\n",
            "|P2A8A6EE60E936FA24|     F| 53|         雲林縣|           2|          1|        0|            1|   153|    57|    0|\n",
            "|J1E82E68A12B9D234D|     M| 54|         高雄市|           3|          1|        0|            2|   180|    80|    0|\n",
            "|J1882AEE9E2183B202|     M| 56|         新竹縣|        null|          1|        0|            1|   173|    68|    0|\n",
            "|Q221C6DF46F85DA0D3|     F| 59|         嘉義縣|           1|          1|        0|            5|   157|    58|    0|\n",
            "|B29C7859D7C9244C3A|     F| 45|         新北市|        null|          1|        0|            2|   160|    52|    0|\n",
            "|A2663738EDFF7839CA|     F| 37|         台北市|           2|          1|        0|            1|   166|    65|    0|\n",
            "|R24A96ABFCF4742B5C|     F| 32|         台南市|           3|          0|        0|            3|   159|    62|    0|\n",
            "+------------------+------+---+---------------+------------+-----------+---------+-------------+------+------+-----+\n",
            "only showing top 20 rows\n",
            "\n",
            "root\n",
            " |-- APC_ID_SAS: string (nullable = true)\n",
            " |-- GENDER: string (nullable = true)\n",
            " |-- AGE: integer (nullable = true)\n",
            " |-- CONTACT_CITY_CD: string (nullable = true)\n",
            " |-- EDUCATION_CD: integer (nullable = true)\n",
            " |-- MARRIAGE_CD: integer (nullable = true)\n",
            " |-- STAFF_IND: integer (nullable = true)\n",
            " |-- LIFE_INSD_CNT: integer (nullable = true)\n",
            " |-- HEIGHT: integer (nullable = true)\n",
            " |-- WEIGHT: integer (nullable = true)\n",
            " |-- LABEL: integer (nullable = false)\n",
            "\n"
          ],
          "name": "stdout"
        }
      ]
    },
    {
      "cell_type": "code",
      "metadata": {
        "id": "ZDHDBc-__gLs",
        "colab_type": "code",
        "colab": {
          "base_uri": "https://localhost:8080/",
          "height": 680
        },
        "outputId": "fbec93d0-41c3-43a2-cfc5-d5ab9d2cfec2"
      },
      "source": [
        "from pyspark.sql import functions as F\n",
        "import numpy as np\n",
        "# 加一欄都是 null 的 LABEL\n",
        "df.withColumn(\"LABEL\",F.lit(None)).show()\n",
        "df.withColumn(\"LABEL\",F.lit(None)).printSchema()"
      ],
      "execution_count": 44,
      "outputs": [
        {
          "output_type": "stream",
          "text": [
            "+------------------+------+---+---------------+------------+-----------+---------+-------------+------+------+-----+\n",
            "|        APC_ID_SAS|GENDER|AGE|CONTACT_CITY_CD|EDUCATION_CD|MARRIAGE_CD|STAFF_IND|LIFE_INSD_CNT|HEIGHT|WEIGHT|LABEL|\n",
            "+------------------+------+---+---------------+------------+-----------+---------+-------------+------+------+-----+\n",
            "|Q2D129E954AD477523|     F| 50|         台中市|           2|          1|        0|            4|   158|    54| null|\n",
            "|A2AFDA91C172B15A77|     F| 35|         高雄市|           3|          0|        0|            2|   162|    48| null|\n",
            "|F1D4EF7FFBE44A51FE|     M| 33|         新北市|           3|          0|        0|            2|   172|    70| null|\n",
            "|T117FCDED3FAE1C1F3|     M| 31|         屏東縣|           3|          0|        0|            3|   167|    58| null|\n",
            "|L26284A55F56B398BA|     F| 55|         高雄市|           3|          1|        0|            2|   161|    55| null|\n",
            "|E1F5DBF55F6B1427DD|     M| 60|         高雄市|           1|          0|        0|            1|   167|    72| null|\n",
            "|F20481473EEB92E8D8|     F| 37|         新北市|           3|          0|        0|            3|   160|    54| null|\n",
            "|H20BE9CA7E806E0551|     F| 71|         基隆市|           3|          1|        0|            2|   150|    47| null|\n",
            "|F1B81805D82921E3B9|     M| 27|         新北市|        null|       null|        0|            1|   182|    64| null|\n",
            "|N1ED4D2C4D60B78323|     M| 57|         彰化縣|           2|          1|        0|            8|   182|    76| null|\n",
            "|F12A8F9FE08045F1A6|     M| 42|         新北市|           3|          1|        0|            6|   174|    63| null|\n",
            "|S2FBC9D681C459E262|     F| 46|         高雄市|           1|          1|        0|            2|   160|    53| null|\n",
            "|T24571F44004FE8145|     F| 59|         屏東縣|           4|          1|        0|            2|   163|    58| null|\n",
            "|P2A8A6EE60E936FA24|     F| 53|         雲林縣|           2|          1|        0|            1|   153|    57| null|\n",
            "|J1E82E68A12B9D234D|     M| 54|         高雄市|           3|          1|        0|            2|   180|    80| null|\n",
            "|J1882AEE9E2183B202|     M| 56|         新竹縣|        null|          1|        0|            1|   173|    68| null|\n",
            "|Q221C6DF46F85DA0D3|     F| 59|         嘉義縣|           1|          1|        0|            5|   157|    58| null|\n",
            "|B29C7859D7C9244C3A|     F| 45|         新北市|        null|          1|        0|            2|   160|    52| null|\n",
            "|A2663738EDFF7839CA|     F| 37|         台北市|           2|          1|        0|            1|   166|    65| null|\n",
            "|R24A96ABFCF4742B5C|     F| 32|         台南市|           3|          0|        0|            3|   159|    62| null|\n",
            "+------------------+------+---+---------------+------------+-----------+---------+-------------+------+------+-----+\n",
            "only showing top 20 rows\n",
            "\n",
            "root\n",
            " |-- APC_ID_SAS: string (nullable = true)\n",
            " |-- GENDER: string (nullable = true)\n",
            " |-- AGE: integer (nullable = true)\n",
            " |-- CONTACT_CITY_CD: string (nullable = true)\n",
            " |-- EDUCATION_CD: integer (nullable = true)\n",
            " |-- MARRIAGE_CD: integer (nullable = true)\n",
            " |-- STAFF_IND: integer (nullable = true)\n",
            " |-- LIFE_INSD_CNT: integer (nullable = true)\n",
            " |-- HEIGHT: integer (nullable = true)\n",
            " |-- WEIGHT: integer (nullable = true)\n",
            " |-- LABEL: null (nullable = true)\n",
            "\n"
          ],
          "name": "stdout"
        }
      ]
    },
    {
      "cell_type": "markdown",
      "metadata": {
        "id": "8fwEurl4_3t8",
        "colab_type": "text"
      },
      "source": [
        "## 指定資料型態"
      ]
    },
    {
      "cell_type": "code",
      "metadata": {
        "id": "iS-T_SaT_gOA",
        "colab_type": "code",
        "colab": {
          "base_uri": "https://localhost:8080/",
          "height": 238
        },
        "outputId": "2ca8d9dd-87a7-407d-ba48-b78a44e06a66"
      },
      "source": [
        "# 指定欄位String型態\n",
        "from pyspark.sql.types import StringType\n",
        "df.withColumn(\"LABEL\",F.lit(0).cast(StringType())).printSchema()"
      ],
      "execution_count": 45,
      "outputs": [
        {
          "output_type": "stream",
          "text": [
            "root\n",
            " |-- APC_ID_SAS: string (nullable = true)\n",
            " |-- GENDER: string (nullable = true)\n",
            " |-- AGE: integer (nullable = true)\n",
            " |-- CONTACT_CITY_CD: string (nullable = true)\n",
            " |-- EDUCATION_CD: integer (nullable = true)\n",
            " |-- MARRIAGE_CD: integer (nullable = true)\n",
            " |-- STAFF_IND: integer (nullable = true)\n",
            " |-- LIFE_INSD_CNT: integer (nullable = true)\n",
            " |-- HEIGHT: integer (nullable = true)\n",
            " |-- WEIGHT: integer (nullable = true)\n",
            " |-- LABEL: string (nullable = false)\n",
            "\n"
          ],
          "name": "stdout"
        }
      ]
    },
    {
      "cell_type": "code",
      "metadata": {
        "id": "cxyY94pC_gQX",
        "colab_type": "code",
        "colab": {
          "base_uri": "https://localhost:8080/",
          "height": 221
        },
        "outputId": "88efbdc1-b672-4c8e-bd44-f88671201e84"
      },
      "source": [
        "# 改變現有欄位型態\n",
        "df.withColumn(\"AGE\",df.AGE.cast(StringType())).printSchema()"
      ],
      "execution_count": 46,
      "outputs": [
        {
          "output_type": "stream",
          "text": [
            "root\n",
            " |-- APC_ID_SAS: string (nullable = true)\n",
            " |-- GENDER: string (nullable = true)\n",
            " |-- AGE: string (nullable = true)\n",
            " |-- CONTACT_CITY_CD: string (nullable = true)\n",
            " |-- EDUCATION_CD: integer (nullable = true)\n",
            " |-- MARRIAGE_CD: integer (nullable = true)\n",
            " |-- STAFF_IND: integer (nullable = true)\n",
            " |-- LIFE_INSD_CNT: integer (nullable = true)\n",
            " |-- HEIGHT: integer (nullable = true)\n",
            " |-- WEIGHT: integer (nullable = true)\n",
            "\n"
          ],
          "name": "stdout"
        }
      ]
    },
    {
      "cell_type": "markdown",
      "metadata": {
        "id": "O0aCO_mVACdS",
        "colab_type": "text"
      },
      "source": [
        "## 資料欄位合併"
      ]
    },
    {
      "cell_type": "code",
      "metadata": {
        "id": "nbffsYtq_gSp",
        "colab_type": "code",
        "colab": {
          "base_uri": "https://localhost:8080/",
          "height": 459
        },
        "outputId": "5f8c2d9c-1855-49ec-d4bd-c11a3297507a"
      },
      "source": [
        "# 建立df_tmp，將df_tmp.AGE併進原本資料表\n",
        "from pyspark.sql import functions as F\n",
        "df_tmp = df[['AGE']]\n",
        "df.withColumn(\"NEW_AGE\",F.concat(df_tmp.AGE)).show()"
      ],
      "execution_count": 47,
      "outputs": [
        {
          "output_type": "stream",
          "text": [
            "+------------------+------+---+---------------+------------+-----------+---------+-------------+------+------+-------+\n",
            "|        APC_ID_SAS|GENDER|AGE|CONTACT_CITY_CD|EDUCATION_CD|MARRIAGE_CD|STAFF_IND|LIFE_INSD_CNT|HEIGHT|WEIGHT|NEW_AGE|\n",
            "+------------------+------+---+---------------+------------+-----------+---------+-------------+------+------+-------+\n",
            "|Q2D129E954AD477523|     F| 50|         台中市|           2|          1|        0|            4|   158|    54|     50|\n",
            "|A2AFDA91C172B15A77|     F| 35|         高雄市|           3|          0|        0|            2|   162|    48|     35|\n",
            "|F1D4EF7FFBE44A51FE|     M| 33|         新北市|           3|          0|        0|            2|   172|    70|     33|\n",
            "|T117FCDED3FAE1C1F3|     M| 31|         屏東縣|           3|          0|        0|            3|   167|    58|     31|\n",
            "|L26284A55F56B398BA|     F| 55|         高雄市|           3|          1|        0|            2|   161|    55|     55|\n",
            "|E1F5DBF55F6B1427DD|     M| 60|         高雄市|           1|          0|        0|            1|   167|    72|     60|\n",
            "|F20481473EEB92E8D8|     F| 37|         新北市|           3|          0|        0|            3|   160|    54|     37|\n",
            "|H20BE9CA7E806E0551|     F| 71|         基隆市|           3|          1|        0|            2|   150|    47|     71|\n",
            "|F1B81805D82921E3B9|     M| 27|         新北市|        null|       null|        0|            1|   182|    64|     27|\n",
            "|N1ED4D2C4D60B78323|     M| 57|         彰化縣|           2|          1|        0|            8|   182|    76|     57|\n",
            "|F12A8F9FE08045F1A6|     M| 42|         新北市|           3|          1|        0|            6|   174|    63|     42|\n",
            "|S2FBC9D681C459E262|     F| 46|         高雄市|           1|          1|        0|            2|   160|    53|     46|\n",
            "|T24571F44004FE8145|     F| 59|         屏東縣|           4|          1|        0|            2|   163|    58|     59|\n",
            "|P2A8A6EE60E936FA24|     F| 53|         雲林縣|           2|          1|        0|            1|   153|    57|     53|\n",
            "|J1E82E68A12B9D234D|     M| 54|         高雄市|           3|          1|        0|            2|   180|    80|     54|\n",
            "|J1882AEE9E2183B202|     M| 56|         新竹縣|        null|          1|        0|            1|   173|    68|     56|\n",
            "|Q221C6DF46F85DA0D3|     F| 59|         嘉義縣|           1|          1|        0|            5|   157|    58|     59|\n",
            "|B29C7859D7C9244C3A|     F| 45|         新北市|        null|          1|        0|            2|   160|    52|     45|\n",
            "|A2663738EDFF7839CA|     F| 37|         台北市|           2|          1|        0|            1|   166|    65|     37|\n",
            "|R24A96ABFCF4742B5C|     F| 32|         台南市|           3|          0|        0|            3|   159|    62|     32|\n",
            "+------------------+------+---+---------------+------------+-----------+---------+-------------+------+------+-------+\n",
            "only showing top 20 rows\n",
            "\n"
          ],
          "name": "stdout"
        }
      ]
    },
    {
      "cell_type": "markdown",
      "metadata": {
        "id": "T8k-FykDAI2r",
        "colab_type": "text"
      },
      "source": [
        "## 資料欄位移除"
      ]
    },
    {
      "cell_type": "code",
      "metadata": {
        "id": "4skImow3_gU9",
        "colab_type": "code",
        "colab": {
          "base_uri": "https://localhost:8080/",
          "height": 459
        },
        "outputId": "13ba3ee1-b958-48c7-f1fd-ca4227e8cfab"
      },
      "source": [
        "# 移除年齡欄位\n",
        "df.drop(df.AGE).show()"
      ],
      "execution_count": 48,
      "outputs": [
        {
          "output_type": "stream",
          "text": [
            "+------------------+------+---------------+------------+-----------+---------+-------------+------+------+\n",
            "|        APC_ID_SAS|GENDER|CONTACT_CITY_CD|EDUCATION_CD|MARRIAGE_CD|STAFF_IND|LIFE_INSD_CNT|HEIGHT|WEIGHT|\n",
            "+------------------+------+---------------+------------+-----------+---------+-------------+------+------+\n",
            "|Q2D129E954AD477523|     F|         台中市|           2|          1|        0|            4|   158|    54|\n",
            "|A2AFDA91C172B15A77|     F|         高雄市|           3|          0|        0|            2|   162|    48|\n",
            "|F1D4EF7FFBE44A51FE|     M|         新北市|           3|          0|        0|            2|   172|    70|\n",
            "|T117FCDED3FAE1C1F3|     M|         屏東縣|           3|          0|        0|            3|   167|    58|\n",
            "|L26284A55F56B398BA|     F|         高雄市|           3|          1|        0|            2|   161|    55|\n",
            "|E1F5DBF55F6B1427DD|     M|         高雄市|           1|          0|        0|            1|   167|    72|\n",
            "|F20481473EEB92E8D8|     F|         新北市|           3|          0|        0|            3|   160|    54|\n",
            "|H20BE9CA7E806E0551|     F|         基隆市|           3|          1|        0|            2|   150|    47|\n",
            "|F1B81805D82921E3B9|     M|         新北市|        null|       null|        0|            1|   182|    64|\n",
            "|N1ED4D2C4D60B78323|     M|         彰化縣|           2|          1|        0|            8|   182|    76|\n",
            "|F12A8F9FE08045F1A6|     M|         新北市|           3|          1|        0|            6|   174|    63|\n",
            "|S2FBC9D681C459E262|     F|         高雄市|           1|          1|        0|            2|   160|    53|\n",
            "|T24571F44004FE8145|     F|         屏東縣|           4|          1|        0|            2|   163|    58|\n",
            "|P2A8A6EE60E936FA24|     F|         雲林縣|           2|          1|        0|            1|   153|    57|\n",
            "|J1E82E68A12B9D234D|     M|         高雄市|           3|          1|        0|            2|   180|    80|\n",
            "|J1882AEE9E2183B202|     M|         新竹縣|        null|          1|        0|            1|   173|    68|\n",
            "|Q221C6DF46F85DA0D3|     F|         嘉義縣|           1|          1|        0|            5|   157|    58|\n",
            "|B29C7859D7C9244C3A|     F|         新北市|        null|          1|        0|            2|   160|    52|\n",
            "|A2663738EDFF7839CA|     F|         台北市|           2|          1|        0|            1|   166|    65|\n",
            "|R24A96ABFCF4742B5C|     F|         台南市|           3|          0|        0|            3|   159|    62|\n",
            "+------------------+------+---------------+------------+-----------+---------+-------------+------+------+\n",
            "only showing top 20 rows\n",
            "\n"
          ],
          "name": "stdout"
        }
      ]
    },
    {
      "cell_type": "markdown",
      "metadata": {
        "id": "1IElxp0uAZCn",
        "colab_type": "text"
      },
      "source": [
        "## 合併資料列"
      ]
    },
    {
      "cell_type": "code",
      "metadata": {
        "id": "AAtjHfr5_gXH",
        "colab_type": "code",
        "colab": {
          "base_uri": "https://localhost:8080/",
          "height": 476
        },
        "outputId": "c5cbf2bb-8e21-455b-9916-2e38c7ba62f9"
      },
      "source": [
        "# 將兩個df合併疊在在一起\n",
        "df_tmp = df.union(df)\n",
        "print(df_tmp.count())\n",
        "df_tmp.show()"
      ],
      "execution_count": 49,
      "outputs": [
        {
          "output_type": "stream",
          "text": [
            "200000\n",
            "+------------------+------+---+---------------+------------+-----------+---------+-------------+------+------+\n",
            "|        APC_ID_SAS|GENDER|AGE|CONTACT_CITY_CD|EDUCATION_CD|MARRIAGE_CD|STAFF_IND|LIFE_INSD_CNT|HEIGHT|WEIGHT|\n",
            "+------------------+------+---+---------------+------------+-----------+---------+-------------+------+------+\n",
            "|Q2D129E954AD477523|     F| 50|         台中市|           2|          1|        0|            4|   158|    54|\n",
            "|A2AFDA91C172B15A77|     F| 35|         高雄市|           3|          0|        0|            2|   162|    48|\n",
            "|F1D4EF7FFBE44A51FE|     M| 33|         新北市|           3|          0|        0|            2|   172|    70|\n",
            "|T117FCDED3FAE1C1F3|     M| 31|         屏東縣|           3|          0|        0|            3|   167|    58|\n",
            "|L26284A55F56B398BA|     F| 55|         高雄市|           3|          1|        0|            2|   161|    55|\n",
            "|E1F5DBF55F6B1427DD|     M| 60|         高雄市|           1|          0|        0|            1|   167|    72|\n",
            "|F20481473EEB92E8D8|     F| 37|         新北市|           3|          0|        0|            3|   160|    54|\n",
            "|H20BE9CA7E806E0551|     F| 71|         基隆市|           3|          1|        0|            2|   150|    47|\n",
            "|F1B81805D82921E3B9|     M| 27|         新北市|        null|       null|        0|            1|   182|    64|\n",
            "|N1ED4D2C4D60B78323|     M| 57|         彰化縣|           2|          1|        0|            8|   182|    76|\n",
            "|F12A8F9FE08045F1A6|     M| 42|         新北市|           3|          1|        0|            6|   174|    63|\n",
            "|S2FBC9D681C459E262|     F| 46|         高雄市|           1|          1|        0|            2|   160|    53|\n",
            "|T24571F44004FE8145|     F| 59|         屏東縣|           4|          1|        0|            2|   163|    58|\n",
            "|P2A8A6EE60E936FA24|     F| 53|         雲林縣|           2|          1|        0|            1|   153|    57|\n",
            "|J1E82E68A12B9D234D|     M| 54|         高雄市|           3|          1|        0|            2|   180|    80|\n",
            "|J1882AEE9E2183B202|     M| 56|         新竹縣|        null|          1|        0|            1|   173|    68|\n",
            "|Q221C6DF46F85DA0D3|     F| 59|         嘉義縣|           1|          1|        0|            5|   157|    58|\n",
            "|B29C7859D7C9244C3A|     F| 45|         新北市|        null|          1|        0|            2|   160|    52|\n",
            "|A2663738EDFF7839CA|     F| 37|         台北市|           2|          1|        0|            1|   166|    65|\n",
            "|R24A96ABFCF4742B5C|     F| 32|         台南市|           3|          0|        0|            3|   159|    62|\n",
            "+------------------+------+---+---------------+------------+-----------+---------+-------------+------+------+\n",
            "only showing top 20 rows\n",
            "\n"
          ],
          "name": "stdout"
        }
      ]
    },
    {
      "cell_type": "markdown",
      "metadata": {
        "id": "t40mUs_BAh5n",
        "colab_type": "text"
      },
      "source": [
        "## 資料表串聯\n",
        "事前準備：先抓取另一張資料表-台灣各縣市衛生所資料 health_center.csv。"
      ]
    },
    {
      "cell_type": "code",
      "metadata": {
        "id": "D443yH5m_gZU",
        "colab_type": "code",
        "colab": {
          "base_uri": "https://localhost:8080/",
          "height": 459
        },
        "outputId": "ebc8be7d-2755-427d-f1a7-4f5d11a28a16"
      },
      "source": [
        "# 從外部抓衛生所的測試資料\n",
        "from pyspark import SparkFiles\n",
        "url = 'https://raw.githubusercontent.com/chia313339/Spark_practice/master/health_center.csv'\n",
        "spark.sparkContext.addFile(url)\n",
        "df2 = spark.read.csv(SparkFiles.get(\"health_center.csv\"), header=True, inferSchema= True)\n",
        "\n",
        "# 將資料集讀取在memory上，DataFrame跟SparkSQL都要下此語法，如果沒下，資料每次都會重新load\n",
        "df2.cache()\n",
        "\n",
        "# 執行這句才會真的運行Spark，將資料存在記憶體\n",
        "df2.show()"
      ],
      "execution_count": 50,
      "outputs": [
        {
          "output_type": "stream",
          "text": [
            "+-------+------+-------+\n",
            "|CITY_CD|HC_CNT|HCP_CNT|\n",
            "+-------+------+-------+\n",
            "| 新北市|    29|    430|\n",
            "| 台北市|    12|    303|\n",
            "| 桃園市|    13|    257|\n",
            "| 台中市|    30|    332|\n",
            "| 台南市|    37|    342|\n",
            "| 高雄市|    38|    474|\n",
            "| 宜蘭縣|    12|    139|\n",
            "| 新竹縣|    13|    169|\n",
            "| 苗栗縣|    18|    184|\n",
            "| 彰化縣|    27|    212|\n",
            "| 南投縣|    13|    181|\n",
            "| 雲林縣|    20|    219|\n",
            "| 嘉義縣|    18|    209|\n",
            "| 屏東縣|    33|    370|\n",
            "| 台中縣|    16|    209|\n",
            "| 花蓮縣|    13|    161|\n",
            "| 澎湖縣|    11|     87|\n",
            "| 基隆市|     7|     62|\n",
            "| 新竹市|     3|     31|\n",
            "| 嘉義市|     2|     23|\n",
            "+-------+------+-------+\n",
            "only showing top 20 rows\n",
            "\n"
          ],
          "name": "stdout"
        }
      ]
    },
    {
      "cell_type": "code",
      "metadata": {
        "id": "DalPw-pY_c89",
        "colab_type": "code",
        "colab": {
          "base_uri": "https://localhost:8080/",
          "height": 459
        },
        "outputId": "d7c5ec10-aaa4-4ca8-d28f-71d37f92b8c9"
      },
      "source": [
        "# df left join df2\n",
        "df.join(df2, df.CONTACT_CITY_CD == df2.CITY_CD, how = \"left_outer\").show()"
      ],
      "execution_count": 51,
      "outputs": [
        {
          "output_type": "stream",
          "text": [
            "+------------------+------+---+---------------+------------+-----------+---------+-------------+------+------+-------+------+-------+\n",
            "|        APC_ID_SAS|GENDER|AGE|CONTACT_CITY_CD|EDUCATION_CD|MARRIAGE_CD|STAFF_IND|LIFE_INSD_CNT|HEIGHT|WEIGHT|CITY_CD|HC_CNT|HCP_CNT|\n",
            "+------------------+------+---+---------------+------------+-----------+---------+-------------+------+------+-------+------+-------+\n",
            "|Q2D129E954AD477523|     F| 50|         台中市|           2|          1|        0|            4|   158|    54| 台中市|    30|    332|\n",
            "|A2AFDA91C172B15A77|     F| 35|         高雄市|           3|          0|        0|            2|   162|    48| 高雄市|    38|    474|\n",
            "|F1D4EF7FFBE44A51FE|     M| 33|         新北市|           3|          0|        0|            2|   172|    70| 新北市|    29|    430|\n",
            "|T117FCDED3FAE1C1F3|     M| 31|         屏東縣|           3|          0|        0|            3|   167|    58| 屏東縣|    33|    370|\n",
            "|L26284A55F56B398BA|     F| 55|         高雄市|           3|          1|        0|            2|   161|    55| 高雄市|    38|    474|\n",
            "|E1F5DBF55F6B1427DD|     M| 60|         高雄市|           1|          0|        0|            1|   167|    72| 高雄市|    38|    474|\n",
            "|F20481473EEB92E8D8|     F| 37|         新北市|           3|          0|        0|            3|   160|    54| 新北市|    29|    430|\n",
            "|H20BE9CA7E806E0551|     F| 71|         基隆市|           3|          1|        0|            2|   150|    47| 基隆市|     7|     62|\n",
            "|F1B81805D82921E3B9|     M| 27|         新北市|        null|       null|        0|            1|   182|    64| 新北市|    29|    430|\n",
            "|N1ED4D2C4D60B78323|     M| 57|         彰化縣|           2|          1|        0|            8|   182|    76| 彰化縣|    27|    212|\n",
            "|F12A8F9FE08045F1A6|     M| 42|         新北市|           3|          1|        0|            6|   174|    63| 新北市|    29|    430|\n",
            "|S2FBC9D681C459E262|     F| 46|         高雄市|           1|          1|        0|            2|   160|    53| 高雄市|    38|    474|\n",
            "|T24571F44004FE8145|     F| 59|         屏東縣|           4|          1|        0|            2|   163|    58| 屏東縣|    33|    370|\n",
            "|P2A8A6EE60E936FA24|     F| 53|         雲林縣|           2|          1|        0|            1|   153|    57| 雲林縣|    20|    219|\n",
            "|J1E82E68A12B9D234D|     M| 54|         高雄市|           3|          1|        0|            2|   180|    80| 高雄市|    38|    474|\n",
            "|J1882AEE9E2183B202|     M| 56|         新竹縣|        null|          1|        0|            1|   173|    68| 新竹縣|    13|    169|\n",
            "|Q221C6DF46F85DA0D3|     F| 59|         嘉義縣|           1|          1|        0|            5|   157|    58| 嘉義縣|    18|    209|\n",
            "|B29C7859D7C9244C3A|     F| 45|         新北市|        null|          1|        0|            2|   160|    52| 新北市|    29|    430|\n",
            "|A2663738EDFF7839CA|     F| 37|         台北市|           2|          1|        0|            1|   166|    65| 台北市|    12|    303|\n",
            "|R24A96ABFCF4742B5C|     F| 32|         台南市|           3|          0|        0|            3|   159|    62| 台南市|    37|    342|\n",
            "+------------------+------+---+---------------+------------+-----------+---------+-------------+------+------+-------+------+-------+\n",
            "only showing top 20 rows\n",
            "\n"
          ],
          "name": "stdout"
        }
      ]
    },
    {
      "cell_type": "markdown",
      "metadata": {
        "id": "61pAlhRBA4yt",
        "colab_type": "text"
      },
      "source": [
        "# 資料串聯練習\n",
        "建立一張資料表，包含 CUST_360 所有欄位，並使用 CONTACT_CITY_CD 透過 left join 串聯 HEALTH_CENTER 衛生所資料的 CITY_CD 欄位。計算並顯示各縣市衛生所的平均員工數，命名為 HC_MEAN。"
      ]
    },
    {
      "cell_type": "code",
      "metadata": {
        "id": "PDz_lTY0A2rl",
        "colab_type": "code",
        "colab": {
          "base_uri": "https://localhost:8080/",
          "height": 459
        },
        "outputId": "31193278-68aa-44ba-84a6-2740018be89a"
      },
      "source": [
        "# Dataframe\n",
        "df.join(df2,df.CONTACT_CITY_CD == df2.CITY_CD, how = \"left_outer\") \\\n",
        ".withColumn(\"HC_MEAN\",df2.HCP_CNT/df2.HC_CNT) \\\n",
        ".drop(*df2.columns).show()"
      ],
      "execution_count": 53,
      "outputs": [
        {
          "output_type": "stream",
          "text": [
            "+------------------+------+---+---------------+------------+-----------+---------+-------------+------+------+------------------+\n",
            "|        APC_ID_SAS|GENDER|AGE|CONTACT_CITY_CD|EDUCATION_CD|MARRIAGE_CD|STAFF_IND|LIFE_INSD_CNT|HEIGHT|WEIGHT|           HC_MEAN|\n",
            "+------------------+------+---+---------------+------------+-----------+---------+-------------+------+------+------------------+\n",
            "|Q2D129E954AD477523|     F| 50|         台中市|           2|          1|        0|            4|   158|    54|11.066666666666666|\n",
            "|A2AFDA91C172B15A77|     F| 35|         高雄市|           3|          0|        0|            2|   162|    48|12.473684210526315|\n",
            "|F1D4EF7FFBE44A51FE|     M| 33|         新北市|           3|          0|        0|            2|   172|    70|14.827586206896552|\n",
            "|T117FCDED3FAE1C1F3|     M| 31|         屏東縣|           3|          0|        0|            3|   167|    58|11.212121212121213|\n",
            "|L26284A55F56B398BA|     F| 55|         高雄市|           3|          1|        0|            2|   161|    55|12.473684210526315|\n",
            "|E1F5DBF55F6B1427DD|     M| 60|         高雄市|           1|          0|        0|            1|   167|    72|12.473684210526315|\n",
            "|F20481473EEB92E8D8|     F| 37|         新北市|           3|          0|        0|            3|   160|    54|14.827586206896552|\n",
            "|H20BE9CA7E806E0551|     F| 71|         基隆市|           3|          1|        0|            2|   150|    47| 8.857142857142858|\n",
            "|F1B81805D82921E3B9|     M| 27|         新北市|        null|       null|        0|            1|   182|    64|14.827586206896552|\n",
            "|N1ED4D2C4D60B78323|     M| 57|         彰化縣|           2|          1|        0|            8|   182|    76| 7.851851851851852|\n",
            "|F12A8F9FE08045F1A6|     M| 42|         新北市|           3|          1|        0|            6|   174|    63|14.827586206896552|\n",
            "|S2FBC9D681C459E262|     F| 46|         高雄市|           1|          1|        0|            2|   160|    53|12.473684210526315|\n",
            "|T24571F44004FE8145|     F| 59|         屏東縣|           4|          1|        0|            2|   163|    58|11.212121212121213|\n",
            "|P2A8A6EE60E936FA24|     F| 53|         雲林縣|           2|          1|        0|            1|   153|    57|             10.95|\n",
            "|J1E82E68A12B9D234D|     M| 54|         高雄市|           3|          1|        0|            2|   180|    80|12.473684210526315|\n",
            "|J1882AEE9E2183B202|     M| 56|         新竹縣|        null|          1|        0|            1|   173|    68|              13.0|\n",
            "|Q221C6DF46F85DA0D3|     F| 59|         嘉義縣|           1|          1|        0|            5|   157|    58| 11.61111111111111|\n",
            "|B29C7859D7C9244C3A|     F| 45|         新北市|        null|          1|        0|            2|   160|    52|14.827586206896552|\n",
            "|A2663738EDFF7839CA|     F| 37|         台北市|           2|          1|        0|            1|   166|    65|             25.25|\n",
            "|R24A96ABFCF4742B5C|     F| 32|         台南市|           3|          0|        0|            3|   159|    62| 9.243243243243244|\n",
            "+------------------+------+---+---------------+------------+-----------+---------+-------------+------+------+------------------+\n",
            "only showing top 20 rows\n",
            "\n"
          ],
          "name": "stdout"
        }
      ]
    },
    {
      "cell_type": "code",
      "metadata": {
        "id": "Ds3LuY1OBGe8",
        "colab_type": "code",
        "colab": {
          "base_uri": "https://localhost:8080/",
          "height": 459
        },
        "outputId": "5897ecb1-d7c9-4dd9-aa71-6abb21b9f033"
      },
      "source": [
        "# 先 register table\n",
        "df2.registerTempTable('health_center')\n",
        "df2.cache()\n",
        "# Spark SQL\n",
        "spark.sql('select APC_ID_SAS, GENDER, AGE, CONTACT_CITY_CD, EDUCATION_CD, MARRIAGE_CD, STAFF_IND, LIFE_INSD_CNT, HEIGHT, WEIGHT, HCP_CNT/HC_CNT as HC_MEAN from cust_360 left join health_center on CONTACT_CITY_CD = CITY_CD').show()"
      ],
      "execution_count": 57,
      "outputs": [
        {
          "output_type": "stream",
          "text": [
            "+------------------+------+---+---------------+------------+-----------+---------+-------------+------+------+------------------+\n",
            "|        APC_ID_SAS|GENDER|AGE|CONTACT_CITY_CD|EDUCATION_CD|MARRIAGE_CD|STAFF_IND|LIFE_INSD_CNT|HEIGHT|WEIGHT|           HC_MEAN|\n",
            "+------------------+------+---+---------------+------------+-----------+---------+-------------+------+------+------------------+\n",
            "|Q2D129E954AD477523|     F| 50|         台中市|           2|          1|        0|            4|   158|    54|11.066666666666666|\n",
            "|A2AFDA91C172B15A77|     F| 35|         高雄市|           3|          0|        0|            2|   162|    48|12.473684210526315|\n",
            "|F1D4EF7FFBE44A51FE|     M| 33|         新北市|           3|          0|        0|            2|   172|    70|14.827586206896552|\n",
            "|T117FCDED3FAE1C1F3|     M| 31|         屏東縣|           3|          0|        0|            3|   167|    58|11.212121212121213|\n",
            "|L26284A55F56B398BA|     F| 55|         高雄市|           3|          1|        0|            2|   161|    55|12.473684210526315|\n",
            "|E1F5DBF55F6B1427DD|     M| 60|         高雄市|           1|          0|        0|            1|   167|    72|12.473684210526315|\n",
            "|F20481473EEB92E8D8|     F| 37|         新北市|           3|          0|        0|            3|   160|    54|14.827586206896552|\n",
            "|H20BE9CA7E806E0551|     F| 71|         基隆市|           3|          1|        0|            2|   150|    47| 8.857142857142858|\n",
            "|F1B81805D82921E3B9|     M| 27|         新北市|        null|       null|        0|            1|   182|    64|14.827586206896552|\n",
            "|N1ED4D2C4D60B78323|     M| 57|         彰化縣|           2|          1|        0|            8|   182|    76| 7.851851851851852|\n",
            "|F12A8F9FE08045F1A6|     M| 42|         新北市|           3|          1|        0|            6|   174|    63|14.827586206896552|\n",
            "|S2FBC9D681C459E262|     F| 46|         高雄市|           1|          1|        0|            2|   160|    53|12.473684210526315|\n",
            "|T24571F44004FE8145|     F| 59|         屏東縣|           4|          1|        0|            2|   163|    58|11.212121212121213|\n",
            "|P2A8A6EE60E936FA24|     F| 53|         雲林縣|           2|          1|        0|            1|   153|    57|             10.95|\n",
            "|J1E82E68A12B9D234D|     M| 54|         高雄市|           3|          1|        0|            2|   180|    80|12.473684210526315|\n",
            "|J1882AEE9E2183B202|     M| 56|         新竹縣|        null|          1|        0|            1|   173|    68|              13.0|\n",
            "|Q221C6DF46F85DA0D3|     F| 59|         嘉義縣|           1|          1|        0|            5|   157|    58| 11.61111111111111|\n",
            "|B29C7859D7C9244C3A|     F| 45|         新北市|        null|          1|        0|            2|   160|    52|14.827586206896552|\n",
            "|A2663738EDFF7839CA|     F| 37|         台北市|           2|          1|        0|            1|   166|    65|             25.25|\n",
            "|R24A96ABFCF4742B5C|     F| 32|         台南市|           3|          0|        0|            3|   159|    62| 9.243243243243244|\n",
            "+------------------+------+---+---------------+------------+-----------+---------+-------------+------+------+------------------+\n",
            "only showing top 20 rows\n",
            "\n"
          ],
          "name": "stdout"
        }
      ]
    },
    {
      "cell_type": "markdown",
      "metadata": {
        "id": "XqmiqETlCQB3",
        "colab_type": "text"
      },
      "source": [
        "# 寫入Hive Table"
      ]
    },
    {
      "cell_type": "code",
      "metadata": {
        "id": "bE0eg1cbBQrn",
        "colab_type": "code",
        "colab": {}
      },
      "source": [
        "# 公司環境\n",
        "# df.write.mode(\"append\").saveAsTable(“life_user_dm.tmp\")"
      ],
      "execution_count": 58,
      "outputs": []
    },
    {
      "cell_type": "code",
      "metadata": {
        "id": "628LP-xOCWqr",
        "colab_type": "code",
        "colab": {}
      },
      "source": [
        "# Colab 練習環境\n",
        "df.write.mode(\"append\").saveAsTable(\"tmp\")"
      ],
      "execution_count": 60,
      "outputs": []
    },
    {
      "cell_type": "code",
      "metadata": {
        "id": "9s6IDEQACaIj",
        "colab_type": "code",
        "colab": {
          "base_uri": "https://localhost:8080/",
          "height": 459
        },
        "outputId": "f1ad8f51-4c09-4dd6-a42c-0425ad74a539"
      },
      "source": [
        "# 儲存好的 Table 可以用 spark.sql() 直接呼叫\n",
        "spark.sql('select * from tmp').show()"
      ],
      "execution_count": 61,
      "outputs": [
        {
          "output_type": "stream",
          "text": [
            "+------------------+------+---+---------------+------------+-----------+---------+-------------+------+------+\n",
            "|        APC_ID_SAS|GENDER|AGE|CONTACT_CITY_CD|EDUCATION_CD|MARRIAGE_CD|STAFF_IND|LIFE_INSD_CNT|HEIGHT|WEIGHT|\n",
            "+------------------+------+---+---------------+------------+-----------+---------+-------------+------+------+\n",
            "|Q2D129E954AD477523|     F| 50|         台中市|           2|          1|        0|            4|   158|    54|\n",
            "|A2AFDA91C172B15A77|     F| 35|         高雄市|           3|          0|        0|            2|   162|    48|\n",
            "|F1D4EF7FFBE44A51FE|     M| 33|         新北市|           3|          0|        0|            2|   172|    70|\n",
            "|T117FCDED3FAE1C1F3|     M| 31|         屏東縣|           3|          0|        0|            3|   167|    58|\n",
            "|L26284A55F56B398BA|     F| 55|         高雄市|           3|          1|        0|            2|   161|    55|\n",
            "|E1F5DBF55F6B1427DD|     M| 60|         高雄市|           1|          0|        0|            1|   167|    72|\n",
            "|F20481473EEB92E8D8|     F| 37|         新北市|           3|          0|        0|            3|   160|    54|\n",
            "|H20BE9CA7E806E0551|     F| 71|         基隆市|           3|          1|        0|            2|   150|    47|\n",
            "|F1B81805D82921E3B9|     M| 27|         新北市|        null|       null|        0|            1|   182|    64|\n",
            "|N1ED4D2C4D60B78323|     M| 57|         彰化縣|           2|          1|        0|            8|   182|    76|\n",
            "|F12A8F9FE08045F1A6|     M| 42|         新北市|           3|          1|        0|            6|   174|    63|\n",
            "|S2FBC9D681C459E262|     F| 46|         高雄市|           1|          1|        0|            2|   160|    53|\n",
            "|T24571F44004FE8145|     F| 59|         屏東縣|           4|          1|        0|            2|   163|    58|\n",
            "|P2A8A6EE60E936FA24|     F| 53|         雲林縣|           2|          1|        0|            1|   153|    57|\n",
            "|J1E82E68A12B9D234D|     M| 54|         高雄市|           3|          1|        0|            2|   180|    80|\n",
            "|J1882AEE9E2183B202|     M| 56|         新竹縣|        null|          1|        0|            1|   173|    68|\n",
            "|Q221C6DF46F85DA0D3|     F| 59|         嘉義縣|           1|          1|        0|            5|   157|    58|\n",
            "|B29C7859D7C9244C3A|     F| 45|         新北市|        null|          1|        0|            2|   160|    52|\n",
            "|A2663738EDFF7839CA|     F| 37|         台北市|           2|          1|        0|            1|   166|    65|\n",
            "|R24A96ABFCF4742B5C|     F| 32|         台南市|           3|          0|        0|            3|   159|    62|\n",
            "+------------------+------+---+---------------+------------+-----------+---------+-------------+------+------+\n",
            "only showing top 20 rows\n",
            "\n"
          ],
          "name": "stdout"
        }
      ]
    },
    {
      "cell_type": "code",
      "metadata": {
        "id": "GU1zajXyCgOz",
        "colab_type": "code",
        "colab": {}
      },
      "source": [
        ""
      ],
      "execution_count": null,
      "outputs": []
    }
  ]
}